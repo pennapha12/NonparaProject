{
 "cells": [
  {
   "cell_type": "markdown",
   "metadata": {},
   "source": [
    "# import important Library"
   ]
  },
  {
   "cell_type": "code",
   "execution_count": 355,
   "metadata": {},
   "outputs": [],
   "source": [
    "import pandas as pd\n",
    "import numpy as np\n",
    "from scipy.stats import stats\n",
    "from scipy.stats import spearmanr, pearsonr\n",
    "from scipy.stats import kruskal\n",
    "from scipy.stats import chi2_contingency\n",
    "from scipy.stats import median_test\n",
    "from scipy.stats import friedmanchisquare\n",
    "from scipy.stats import mannwhitneyu\n"
   ]
  },
  {
   "cell_type": "markdown",
   "metadata": {},
   "source": [
    "# Clean data "
   ]
  },
  {
   "cell_type": "markdown",
   "metadata": {},
   "source": [
    "## Clean and Prepare Attribute Salary"
   ]
  },
  {
   "cell_type": "code",
   "execution_count": 356,
   "metadata": {},
   "outputs": [
    {
     "data": {
      "text/html": [
       "<div>\n",
       "<style scoped>\n",
       "    .dataframe tbody tr th:only-of-type {\n",
       "        vertical-align: middle;\n",
       "    }\n",
       "\n",
       "    .dataframe tbody tr th {\n",
       "        vertical-align: top;\n",
       "    }\n",
       "\n",
       "    .dataframe thead th {\n",
       "        text-align: right;\n",
       "    }\n",
       "</style>\n",
       "<table border=\"1\" class=\"dataframe\">\n",
       "  <thead>\n",
       "    <tr style=\"text-align: right;\">\n",
       "      <th></th>\n",
       "      <th>Company</th>\n",
       "      <th>Company Score</th>\n",
       "      <th>Job Title</th>\n",
       "      <th>Location</th>\n",
       "      <th>Date</th>\n",
       "      <th>Salary</th>\n",
       "    </tr>\n",
       "  </thead>\n",
       "  <tbody>\n",
       "    <tr>\n",
       "      <th>0</th>\n",
       "      <td>ViewSoft</td>\n",
       "      <td>4.8</td>\n",
       "      <td>Software Engineer</td>\n",
       "      <td>Manassas, VA</td>\n",
       "      <td>8d</td>\n",
       "      <td>$68K - $94K (Glassdoor est.)</td>\n",
       "    </tr>\n",
       "    <tr>\n",
       "      <th>1</th>\n",
       "      <td>Workiva</td>\n",
       "      <td>4.3</td>\n",
       "      <td>Software Support Engineer</td>\n",
       "      <td>Remote</td>\n",
       "      <td>2d</td>\n",
       "      <td>$61K - $104K (Employer est.)</td>\n",
       "    </tr>\n",
       "    <tr>\n",
       "      <th>2</th>\n",
       "      <td>Garmin International, Inc.</td>\n",
       "      <td>3.9</td>\n",
       "      <td>C# Software Engineer</td>\n",
       "      <td>Cary, NC</td>\n",
       "      <td>2d</td>\n",
       "      <td>$95K - $118K (Glassdoor est.)</td>\n",
       "    </tr>\n",
       "    <tr>\n",
       "      <th>3</th>\n",
       "      <td>Snapchat</td>\n",
       "      <td>3.5</td>\n",
       "      <td>Software Engineer, Fullstack, 1+ Years of Expe...</td>\n",
       "      <td>Los Angeles, CA</td>\n",
       "      <td>2d</td>\n",
       "      <td>$97K - $145K (Employer est.)</td>\n",
       "    </tr>\n",
       "    <tr>\n",
       "      <th>4</th>\n",
       "      <td>Vitesco Technologies Group AG</td>\n",
       "      <td>3.1</td>\n",
       "      <td>Software Engineer</td>\n",
       "      <td>Seguin, TX</td>\n",
       "      <td>2d</td>\n",
       "      <td>$85K - $108K (Glassdoor est.)</td>\n",
       "    </tr>\n",
       "  </tbody>\n",
       "</table>\n",
       "</div>"
      ],
      "text/plain": [
       "                         Company  Company Score  \\\n",
       "0                       ViewSoft            4.8   \n",
       "1                        Workiva            4.3   \n",
       "2     Garmin International, Inc.            3.9   \n",
       "3                       Snapchat            3.5   \n",
       "4  Vitesco Technologies Group AG            3.1   \n",
       "\n",
       "                                           Job Title         Location Date  \\\n",
       "0                                  Software Engineer     Manassas, VA   8d   \n",
       "1                          Software Support Engineer           Remote   2d   \n",
       "2                               C# Software Engineer         Cary, NC   2d   \n",
       "3  Software Engineer, Fullstack, 1+ Years of Expe...  Los Angeles, CA   2d   \n",
       "4                                  Software Engineer       Seguin, TX   2d   \n",
       "\n",
       "                          Salary  \n",
       "0   $68K - $94K (Glassdoor est.)  \n",
       "1   $61K - $104K (Employer est.)  \n",
       "2  $95K - $118K (Glassdoor est.)  \n",
       "3   $97K - $145K (Employer est.)  \n",
       "4  $85K - $108K (Glassdoor est.)  "
      ]
     },
     "execution_count": 356,
     "metadata": {},
     "output_type": "execute_result"
    }
   ],
   "source": [
    "'''Import data'''\n",
    "#Saraly\n",
    "file_path = r'C:\\Nonpara_Project\\Software Engineer Salaries.csv'\n",
    "data = pd.read_csv(file_path)\n",
    "data.head()"
   ]
  },
  {
   "cell_type": "markdown",
   "metadata": {},
   "source": [
    "### สร้าง Function "
   ]
  },
  {
   "cell_type": "code",
   "execution_count": 357,
   "metadata": {},
   "outputs": [],
   "source": [
    "\n",
    "# Create new columns 'Country' and 'City' by splitting the 'Location' column\n",
    "data[['City', 'state']] = data['Location'].str.split(',', expand=True)\n",
    "\n",
    "def extract_salary_range(salary_str):\n",
    "    \"\"\"Extracts the lower and upper bounds of the salary range from a string.\n",
    "    Args:\n",
    "        salary_str: The salary string (e.g., '$68K - $94K (Glassdoor est.)').\n",
    "    Returns:\n",
    "        A tuple containing the lower and upper salary bounds (as integers), or None if\n",
    "        the string cannot be parsed.\n",
    "    \"\"\"\n",
    "    # ตรวจสอบว่าค่าที่รับเข้ามาเป็นสตริงหรือไม่\n",
    "    if isinstance(salary_str, str):\n",
    "        # ลบอักขระที่ไม่จำเป็น\n",
    "        salary_str = salary_str.replace('(', '').replace(')', '').replace('$', '').replace('K', '')\n",
    "        \n",
    "        # แยกสตริงตามเครื่องหมายขีด\n",
    "        parts = salary_str.split('-')\n",
    "        \n",
    "        if len(parts) == 2:  # ถ้ามีช่วงเงินเดือน\n",
    "            try:\n",
    "                lower = int(parts[0].strip())\n",
    "                upper = int(parts[1].strip().split()[0])  # จัดการกับข้อความส่วนเกินหลังขีดบน\n",
    "                return lower, upper\n",
    "            except ValueError:\n",
    "                return None\n",
    "        \n",
    "        elif len(parts) == 1:  # ถ้ามีแค่ค่าเดียว\n",
    "            try:\n",
    "                value = int(parts[0].strip())\n",
    "                return value, value  # กำหนดให้ค่าขีดบนและขีดล่างเท่ากัน\n",
    "            except ValueError:\n",
    "                return None\n",
    "            \n",
    "    return None  # ถ้าค่าไม่สามารถถูกแปลงได้\n"
   ]
  },
  {
   "cell_type": "markdown",
   "metadata": {},
   "source": [
    "### เรียกใช้ฟังก์ชั่น"
   ]
  },
  {
   "cell_type": "code",
   "execution_count": 358,
   "metadata": {},
   "outputs": [],
   "source": [
    "#ใช้งานฟังก์ชันกับคอลัมน์ Salary\n",
    "data[['LowerSalary', 'UpperSalary']] = data['Salary'].apply(lambda x: pd.Series(extract_salary_range(x)))"
   ]
  },
  {
   "cell_type": "markdown",
   "metadata": {},
   "source": [
    "### สร้างคอลัมน์ แสดงตัวแทนของเงินเดือน"
   ]
  },
  {
   "cell_type": "code",
   "execution_count": 359,
   "metadata": {},
   "outputs": [],
   "source": [
    "#สร้าง columns Mid_Saraly เพื่อใช้เป็นตัวแทนของข้อมูลเงินเดือนที่กรอกค่ามาให้เป็นช่วง\n",
    "data['Mid_Salary'] = [(lower + upper) / 2 for lower, upper in zip(data['LowerSalary'], data['UpperSalary'])]"
   ]
  },
  {
   "cell_type": "code",
   "execution_count": 360,
   "metadata": {},
   "outputs": [
    {
     "data": {
      "text/html": [
       "<div>\n",
       "<style scoped>\n",
       "    .dataframe tbody tr th:only-of-type {\n",
       "        vertical-align: middle;\n",
       "    }\n",
       "\n",
       "    .dataframe tbody tr th {\n",
       "        vertical-align: top;\n",
       "    }\n",
       "\n",
       "    .dataframe thead th {\n",
       "        text-align: right;\n",
       "    }\n",
       "</style>\n",
       "<table border=\"1\" class=\"dataframe\">\n",
       "  <thead>\n",
       "    <tr style=\"text-align: right;\">\n",
       "      <th></th>\n",
       "      <th>Company</th>\n",
       "      <th>Company Score</th>\n",
       "      <th>Job Title</th>\n",
       "      <th>Location</th>\n",
       "      <th>Date</th>\n",
       "      <th>Salary</th>\n",
       "      <th>City</th>\n",
       "      <th>state</th>\n",
       "      <th>LowerSalary</th>\n",
       "      <th>UpperSalary</th>\n",
       "      <th>Mid_Salary</th>\n",
       "    </tr>\n",
       "  </thead>\n",
       "  <tbody>\n",
       "    <tr>\n",
       "      <th>526</th>\n",
       "      <td>BOEING</td>\n",
       "      <td>4.0</td>\n",
       "      <td>Senior Software Engineer</td>\n",
       "      <td>Washington, DC</td>\n",
       "      <td>30d+</td>\n",
       "      <td>$343K - $637K (Employer est.)</td>\n",
       "      <td>Washington</td>\n",
       "      <td>DC</td>\n",
       "      <td>343.0</td>\n",
       "      <td>637.0</td>\n",
       "      <td>490.0</td>\n",
       "    </tr>\n",
       "    <tr>\n",
       "      <th>578</th>\n",
       "      <td>INTEL</td>\n",
       "      <td>5.0</td>\n",
       "      <td>Software Engineer 2 - Mainframe (Cobol, JCL, V...</td>\n",
       "      <td>Brookfield, WI</td>\n",
       "      <td>12d</td>\n",
       "      <td>$310K - $465K (Employer est.)</td>\n",
       "      <td>Brookfield</td>\n",
       "      <td>WI</td>\n",
       "      <td>310.0</td>\n",
       "      <td>465.0</td>\n",
       "      <td>387.5</td>\n",
       "    </tr>\n",
       "    <tr>\n",
       "      <th>668</th>\n",
       "      <td>Workday</td>\n",
       "      <td>4.0</td>\n",
       "      <td>Software Engineer - Camera (Technical Leadership)</td>\n",
       "      <td>Redmond, WA</td>\n",
       "      <td>3d</td>\n",
       "      <td>$300K - $450K (Employer est.)</td>\n",
       "      <td>Redmond</td>\n",
       "      <td>WA</td>\n",
       "      <td>300.0</td>\n",
       "      <td>450.0</td>\n",
       "      <td>375.0</td>\n",
       "    </tr>\n",
       "    <tr>\n",
       "      <th>157</th>\n",
       "      <td>Intuitive Machines LLC</td>\n",
       "      <td>3.8</td>\n",
       "      <td>Research Software Engineer</td>\n",
       "      <td>Houston, TX</td>\n",
       "      <td>10d</td>\n",
       "      <td>$295K - $440K (Employer est.)</td>\n",
       "      <td>Houston</td>\n",
       "      <td>TX</td>\n",
       "      <td>295.0</td>\n",
       "      <td>440.0</td>\n",
       "      <td>367.5</td>\n",
       "    </tr>\n",
       "    <tr>\n",
       "      <th>743</th>\n",
       "      <td>Teradyne</td>\n",
       "      <td>3.6</td>\n",
       "      <td>Software Engineer (Onsite)</td>\n",
       "      <td>Columbia, MD</td>\n",
       "      <td>25d</td>\n",
       "      <td>$248K - $385K (Employer est.)</td>\n",
       "      <td>Columbia</td>\n",
       "      <td>MD</td>\n",
       "      <td>248.0</td>\n",
       "      <td>385.0</td>\n",
       "      <td>316.5</td>\n",
       "    </tr>\n",
       "  </tbody>\n",
       "</table>\n",
       "</div>"
      ],
      "text/plain": [
       "                    Company  Company Score  \\\n",
       "526                  BOEING            4.0   \n",
       "578                   INTEL            5.0   \n",
       "668                 Workday            4.0   \n",
       "157  Intuitive Machines LLC            3.8   \n",
       "743                Teradyne            3.6   \n",
       "\n",
       "                                             Job Title        Location  Date  \\\n",
       "526                           Senior Software Engineer  Washington, DC  30d+   \n",
       "578  Software Engineer 2 - Mainframe (Cobol, JCL, V...  Brookfield, WI   12d   \n",
       "668  Software Engineer - Camera (Technical Leadership)     Redmond, WA    3d   \n",
       "157                         Research Software Engineer     Houston, TX   10d   \n",
       "743                         Software Engineer (Onsite)    Columbia, MD   25d   \n",
       "\n",
       "                            Salary        City state  LowerSalary  \\\n",
       "526  $343K - $637K (Employer est.)  Washington    DC        343.0   \n",
       "578  $310K - $465K (Employer est.)  Brookfield    WI        310.0   \n",
       "668  $300K - $450K (Employer est.)     Redmond    WA        300.0   \n",
       "157  $295K - $440K (Employer est.)     Houston    TX        295.0   \n",
       "743  $248K - $385K (Employer est.)    Columbia    MD        248.0   \n",
       "\n",
       "     UpperSalary  Mid_Salary  \n",
       "526        637.0       490.0  \n",
       "578        465.0       387.5  \n",
       "668        450.0       375.0  \n",
       "157        440.0       367.5  \n",
       "743        385.0       316.5  "
      ]
     },
     "execution_count": 360,
     "metadata": {},
     "output_type": "execute_result"
    }
   ],
   "source": [
    "data.sort_values(by='Mid_Salary',ascending=False).head()"
   ]
  },
  {
   "cell_type": "code",
   "execution_count": 361,
   "metadata": {},
   "outputs": [
    {
     "data": {
      "text/html": [
       "<div>\n",
       "<style scoped>\n",
       "    .dataframe tbody tr th:only-of-type {\n",
       "        vertical-align: middle;\n",
       "    }\n",
       "\n",
       "    .dataframe tbody tr th {\n",
       "        vertical-align: top;\n",
       "    }\n",
       "\n",
       "    .dataframe thead th {\n",
       "        text-align: right;\n",
       "    }\n",
       "</style>\n",
       "<table border=\"1\" class=\"dataframe\">\n",
       "  <thead>\n",
       "    <tr style=\"text-align: right;\">\n",
       "      <th></th>\n",
       "      <th>Company</th>\n",
       "      <th>Company Score</th>\n",
       "      <th>Job Title</th>\n",
       "      <th>Location</th>\n",
       "      <th>Date</th>\n",
       "      <th>Salary</th>\n",
       "      <th>City</th>\n",
       "      <th>state</th>\n",
       "      <th>LowerSalary</th>\n",
       "      <th>UpperSalary</th>\n",
       "      <th>Mid_Salary</th>\n",
       "    </tr>\n",
       "  </thead>\n",
       "  <tbody>\n",
       "    <tr>\n",
       "      <th>69</th>\n",
       "      <td>KAIROS Inc</td>\n",
       "      <td>3.5</td>\n",
       "      <td>Software Engineer</td>\n",
       "      <td>Dahlgren, VA</td>\n",
       "      <td>16d</td>\n",
       "      <td>$6K - $7K (Employer est.)</td>\n",
       "      <td>Dahlgren</td>\n",
       "      <td>VA</td>\n",
       "      <td>6.0</td>\n",
       "      <td>7.0</td>\n",
       "      <td>6.5</td>\n",
       "    </tr>\n",
       "    <tr>\n",
       "      <th>632</th>\n",
       "      <td>Geneva Technologies Inc.</td>\n",
       "      <td>3.4</td>\n",
       "      <td>Associate Design Engineer - Software V&amp;V</td>\n",
       "      <td>Wauwatosa, WI</td>\n",
       "      <td>30d+</td>\n",
       "      <td>$8K - $12K (Employer est.)</td>\n",
       "      <td>Wauwatosa</td>\n",
       "      <td>WI</td>\n",
       "      <td>8.0</td>\n",
       "      <td>12.0</td>\n",
       "      <td>10.0</td>\n",
       "    </tr>\n",
       "    <tr>\n",
       "      <th>350</th>\n",
       "      <td>Solvere Technical Group</td>\n",
       "      <td>3.6</td>\n",
       "      <td>Software Engineer</td>\n",
       "      <td>Fall River, MA</td>\n",
       "      <td>30d+</td>\n",
       "      <td>$10K - $20K (Employer est.)</td>\n",
       "      <td>Fall River</td>\n",
       "      <td>MA</td>\n",
       "      <td>10.0</td>\n",
       "      <td>20.0</td>\n",
       "      <td>15.0</td>\n",
       "    </tr>\n",
       "    <tr>\n",
       "      <th>375</th>\n",
       "      <td>UiPath</td>\n",
       "      <td>3.7</td>\n",
       "      <td>Expert Software Engineer</td>\n",
       "      <td>Alpharetta, GA</td>\n",
       "      <td>1d</td>\n",
       "      <td>$50K - $60K (Employer est.)</td>\n",
       "      <td>Alpharetta</td>\n",
       "      <td>GA</td>\n",
       "      <td>50.0</td>\n",
       "      <td>60.0</td>\n",
       "      <td>55.0</td>\n",
       "    </tr>\n",
       "    <tr>\n",
       "      <th>642</th>\n",
       "      <td>NMG Technology Services</td>\n",
       "      <td>3.8</td>\n",
       "      <td>Senior Software Engineer</td>\n",
       "      <td>Oregon</td>\n",
       "      <td>5d</td>\n",
       "      <td>$37K - $82K (Employer est.)</td>\n",
       "      <td>Oregon</td>\n",
       "      <td>None</td>\n",
       "      <td>37.0</td>\n",
       "      <td>82.0</td>\n",
       "      <td>59.5</td>\n",
       "    </tr>\n",
       "  </tbody>\n",
       "</table>\n",
       "</div>"
      ],
      "text/plain": [
       "                      Company  Company Score  \\\n",
       "69                 KAIROS Inc            3.5   \n",
       "632  Geneva Technologies Inc.            3.4   \n",
       "350   Solvere Technical Group            3.6   \n",
       "375                    UiPath            3.7   \n",
       "642   NMG Technology Services            3.8   \n",
       "\n",
       "                                    Job Title        Location  Date  \\\n",
       "69                          Software Engineer    Dahlgren, VA   16d   \n",
       "632  Associate Design Engineer - Software V&V   Wauwatosa, WI  30d+   \n",
       "350                         Software Engineer  Fall River, MA  30d+   \n",
       "375                  Expert Software Engineer  Alpharetta, GA    1d   \n",
       "642                  Senior Software Engineer          Oregon    5d   \n",
       "\n",
       "                          Salary        City state  LowerSalary  UpperSalary  \\\n",
       "69     $6K - $7K (Employer est.)    Dahlgren    VA          6.0          7.0   \n",
       "632   $8K - $12K (Employer est.)   Wauwatosa    WI          8.0         12.0   \n",
       "350  $10K - $20K (Employer est.)  Fall River    MA         10.0         20.0   \n",
       "375  $50K - $60K (Employer est.)  Alpharetta    GA         50.0         60.0   \n",
       "642  $37K - $82K (Employer est.)      Oregon  None         37.0         82.0   \n",
       "\n",
       "     Mid_Salary  \n",
       "69          6.5  \n",
       "632        10.0  \n",
       "350        15.0  \n",
       "375        55.0  \n",
       "642        59.5  "
      ]
     },
     "execution_count": 361,
     "metadata": {},
     "output_type": "execute_result"
    }
   ],
   "source": [
    "data.sort_values(by='Mid_Salary',ascending=True).head()"
   ]
  },
  {
   "cell_type": "markdown",
   "metadata": {},
   "source": [
    "### สร้าง columns Remote "
   ]
  },
  {
   "cell_type": "code",
   "execution_count": 362,
   "metadata": {},
   "outputs": [
    {
     "name": "stderr",
     "output_type": "stream",
     "text": [
      "C:\\Users\\pwb\\AppData\\Local\\Temp\\ipykernel_6632\\3030111120.py:2: FutureWarning: Downcasting object dtype arrays on .fillna, .ffill, .bfill is deprecated and will change in a future version. Call result.infer_objects(copy=False) instead. To opt-in to the future behavior, set `pd.set_option('future.no_silent_downcasting', True)`\n",
      "  data['Remote'] = data['Location'].str.contains('Remote').fillna(False)\n"
     ]
    },
    {
     "data": {
      "text/html": [
       "<div>\n",
       "<style scoped>\n",
       "    .dataframe tbody tr th:only-of-type {\n",
       "        vertical-align: middle;\n",
       "    }\n",
       "\n",
       "    .dataframe tbody tr th {\n",
       "        vertical-align: top;\n",
       "    }\n",
       "\n",
       "    .dataframe thead th {\n",
       "        text-align: right;\n",
       "    }\n",
       "</style>\n",
       "<table border=\"1\" class=\"dataframe\">\n",
       "  <thead>\n",
       "    <tr style=\"text-align: right;\">\n",
       "      <th></th>\n",
       "      <th>Company</th>\n",
       "      <th>Company Score</th>\n",
       "      <th>Job Title</th>\n",
       "      <th>Location</th>\n",
       "      <th>Date</th>\n",
       "      <th>Salary</th>\n",
       "      <th>City</th>\n",
       "      <th>state</th>\n",
       "      <th>LowerSalary</th>\n",
       "      <th>UpperSalary</th>\n",
       "      <th>Mid_Salary</th>\n",
       "      <th>Remote</th>\n",
       "    </tr>\n",
       "  </thead>\n",
       "  <tbody>\n",
       "    <tr>\n",
       "      <th>0</th>\n",
       "      <td>ViewSoft</td>\n",
       "      <td>4.8</td>\n",
       "      <td>Software Engineer</td>\n",
       "      <td>Manassas, VA</td>\n",
       "      <td>8d</td>\n",
       "      <td>$68K - $94K (Glassdoor est.)</td>\n",
       "      <td>Manassas</td>\n",
       "      <td>VA</td>\n",
       "      <td>68.0</td>\n",
       "      <td>94.0</td>\n",
       "      <td>81.0</td>\n",
       "      <td>False</td>\n",
       "    </tr>\n",
       "    <tr>\n",
       "      <th>1</th>\n",
       "      <td>Workiva</td>\n",
       "      <td>4.3</td>\n",
       "      <td>Software Support Engineer</td>\n",
       "      <td>Remote</td>\n",
       "      <td>2d</td>\n",
       "      <td>$61K - $104K (Employer est.)</td>\n",
       "      <td>Remote</td>\n",
       "      <td>None</td>\n",
       "      <td>61.0</td>\n",
       "      <td>104.0</td>\n",
       "      <td>82.5</td>\n",
       "      <td>True</td>\n",
       "    </tr>\n",
       "    <tr>\n",
       "      <th>2</th>\n",
       "      <td>Garmin International, Inc.</td>\n",
       "      <td>3.9</td>\n",
       "      <td>C# Software Engineer</td>\n",
       "      <td>Cary, NC</td>\n",
       "      <td>2d</td>\n",
       "      <td>$95K - $118K (Glassdoor est.)</td>\n",
       "      <td>Cary</td>\n",
       "      <td>NC</td>\n",
       "      <td>95.0</td>\n",
       "      <td>118.0</td>\n",
       "      <td>106.5</td>\n",
       "      <td>False</td>\n",
       "    </tr>\n",
       "    <tr>\n",
       "      <th>3</th>\n",
       "      <td>Snapchat</td>\n",
       "      <td>3.5</td>\n",
       "      <td>Software Engineer, Fullstack, 1+ Years of Expe...</td>\n",
       "      <td>Los Angeles, CA</td>\n",
       "      <td>2d</td>\n",
       "      <td>$97K - $145K (Employer est.)</td>\n",
       "      <td>Los Angeles</td>\n",
       "      <td>CA</td>\n",
       "      <td>97.0</td>\n",
       "      <td>145.0</td>\n",
       "      <td>121.0</td>\n",
       "      <td>False</td>\n",
       "    </tr>\n",
       "    <tr>\n",
       "      <th>4</th>\n",
       "      <td>Vitesco Technologies Group AG</td>\n",
       "      <td>3.1</td>\n",
       "      <td>Software Engineer</td>\n",
       "      <td>Seguin, TX</td>\n",
       "      <td>2d</td>\n",
       "      <td>$85K - $108K (Glassdoor est.)</td>\n",
       "      <td>Seguin</td>\n",
       "      <td>TX</td>\n",
       "      <td>85.0</td>\n",
       "      <td>108.0</td>\n",
       "      <td>96.5</td>\n",
       "      <td>False</td>\n",
       "    </tr>\n",
       "    <tr>\n",
       "      <th>...</th>\n",
       "      <td>...</td>\n",
       "      <td>...</td>\n",
       "      <td>...</td>\n",
       "      <td>...</td>\n",
       "      <td>...</td>\n",
       "      <td>...</td>\n",
       "      <td>...</td>\n",
       "      <td>...</td>\n",
       "      <td>...</td>\n",
       "      <td>...</td>\n",
       "      <td>...</td>\n",
       "      <td>...</td>\n",
       "    </tr>\n",
       "    <tr>\n",
       "      <th>865</th>\n",
       "      <td>RXO</td>\n",
       "      <td>NaN</td>\n",
       "      <td>Software Engineer, Machine Learning Compute</td>\n",
       "      <td>San Francisco, CA</td>\n",
       "      <td>6d</td>\n",
       "      <td>NaN</td>\n",
       "      <td>San Francisco</td>\n",
       "      <td>CA</td>\n",
       "      <td>NaN</td>\n",
       "      <td>NaN</td>\n",
       "      <td>NaN</td>\n",
       "      <td>False</td>\n",
       "    </tr>\n",
       "    <tr>\n",
       "      <th>866</th>\n",
       "      <td>Infosys</td>\n",
       "      <td>NaN</td>\n",
       "      <td>Software Engineer - 3 (Apache NiFi)</td>\n",
       "      <td>Annapolis Junction, MD</td>\n",
       "      <td>18d</td>\n",
       "      <td>NaN</td>\n",
       "      <td>Annapolis Junction</td>\n",
       "      <td>MD</td>\n",
       "      <td>NaN</td>\n",
       "      <td>NaN</td>\n",
       "      <td>NaN</td>\n",
       "      <td>False</td>\n",
       "    </tr>\n",
       "    <tr>\n",
       "      <th>867</th>\n",
       "      <td>Medtronic</td>\n",
       "      <td>NaN</td>\n",
       "      <td>Senior Software Engineer</td>\n",
       "      <td>Southfield, MI</td>\n",
       "      <td>19d</td>\n",
       "      <td>NaN</td>\n",
       "      <td>Southfield</td>\n",
       "      <td>MI</td>\n",
       "      <td>NaN</td>\n",
       "      <td>NaN</td>\n",
       "      <td>NaN</td>\n",
       "      <td>False</td>\n",
       "    </tr>\n",
       "    <tr>\n",
       "      <th>868</th>\n",
       "      <td>NaN</td>\n",
       "      <td>NaN</td>\n",
       "      <td>Junior Python Developer</td>\n",
       "      <td>Charlotte, NC</td>\n",
       "      <td>2d</td>\n",
       "      <td>NaN</td>\n",
       "      <td>Charlotte</td>\n",
       "      <td>NC</td>\n",
       "      <td>NaN</td>\n",
       "      <td>NaN</td>\n",
       "      <td>NaN</td>\n",
       "      <td>False</td>\n",
       "    </tr>\n",
       "    <tr>\n",
       "      <th>869</th>\n",
       "      <td>NaN</td>\n",
       "      <td>NaN</td>\n",
       "      <td>GUI Software Engineer II - Surgical Robotics</td>\n",
       "      <td>Boston, MA</td>\n",
       "      <td>10d</td>\n",
       "      <td>NaN</td>\n",
       "      <td>Boston</td>\n",
       "      <td>MA</td>\n",
       "      <td>NaN</td>\n",
       "      <td>NaN</td>\n",
       "      <td>NaN</td>\n",
       "      <td>False</td>\n",
       "    </tr>\n",
       "  </tbody>\n",
       "</table>\n",
       "<p>870 rows × 12 columns</p>\n",
       "</div>"
      ],
      "text/plain": [
       "                           Company  Company Score  \\\n",
       "0                         ViewSoft            4.8   \n",
       "1                          Workiva            4.3   \n",
       "2       Garmin International, Inc.            3.9   \n",
       "3                         Snapchat            3.5   \n",
       "4    Vitesco Technologies Group AG            3.1   \n",
       "..                             ...            ...   \n",
       "865                            RXO            NaN   \n",
       "866                        Infosys            NaN   \n",
       "867                      Medtronic            NaN   \n",
       "868                            NaN            NaN   \n",
       "869                            NaN            NaN   \n",
       "\n",
       "                                             Job Title  \\\n",
       "0                                    Software Engineer   \n",
       "1                            Software Support Engineer   \n",
       "2                                 C# Software Engineer   \n",
       "3    Software Engineer, Fullstack, 1+ Years of Expe...   \n",
       "4                                    Software Engineer   \n",
       "..                                                 ...   \n",
       "865        Software Engineer, Machine Learning Compute   \n",
       "866                Software Engineer - 3 (Apache NiFi)   \n",
       "867                           Senior Software Engineer   \n",
       "868                            Junior Python Developer   \n",
       "869       GUI Software Engineer II - Surgical Robotics   \n",
       "\n",
       "                   Location Date                         Salary  \\\n",
       "0              Manassas, VA   8d   $68K - $94K (Glassdoor est.)   \n",
       "1                    Remote   2d   $61K - $104K (Employer est.)   \n",
       "2                  Cary, NC   2d  $95K - $118K (Glassdoor est.)   \n",
       "3           Los Angeles, CA   2d   $97K - $145K (Employer est.)   \n",
       "4                Seguin, TX   2d  $85K - $108K (Glassdoor est.)   \n",
       "..                      ...  ...                            ...   \n",
       "865       San Francisco, CA   6d                            NaN   \n",
       "866  Annapolis Junction, MD  18d                            NaN   \n",
       "867          Southfield, MI  19d                            NaN   \n",
       "868           Charlotte, NC   2d                            NaN   \n",
       "869              Boston, MA  10d                            NaN   \n",
       "\n",
       "                   City state  LowerSalary  UpperSalary  Mid_Salary  Remote  \n",
       "0              Manassas    VA         68.0         94.0        81.0   False  \n",
       "1                Remote  None         61.0        104.0        82.5    True  \n",
       "2                  Cary    NC         95.0        118.0       106.5   False  \n",
       "3           Los Angeles    CA         97.0        145.0       121.0   False  \n",
       "4                Seguin    TX         85.0        108.0        96.5   False  \n",
       "..                  ...   ...          ...          ...         ...     ...  \n",
       "865       San Francisco    CA          NaN          NaN         NaN   False  \n",
       "866  Annapolis Junction    MD          NaN          NaN         NaN   False  \n",
       "867          Southfield    MI          NaN          NaN         NaN   False  \n",
       "868           Charlotte    NC          NaN          NaN         NaN   False  \n",
       "869              Boston    MA          NaN          NaN         NaN   False  \n",
       "\n",
       "[870 rows x 12 columns]"
      ]
     },
     "execution_count": 362,
     "metadata": {},
     "output_type": "execute_result"
    }
   ],
   "source": [
    "#สร้างคอลัมน์ใหม่ 'Remote' ที่ตรวจสอบว่ามี 'Remote' ใน 'Location' หรือไม่ \n",
    "data['Remote'] = data['Location'].str.contains('Remote').fillna(False)\n",
    "data"
   ]
  },
  {
   "cell_type": "code",
   "execution_count": 363,
   "metadata": {},
   "outputs": [],
   "source": [
    "data['Remote'] = data['Remote'].replace({True: 'Yes', False: 'No'})\n"
   ]
  },
  {
   "cell_type": "markdown",
   "metadata": {},
   "source": [
    "### แบ่งกลุ่มเงินเดือน"
   ]
  },
  {
   "cell_type": "markdown",
   "metadata": {},
   "source": [
    "## Clean and Prepare Attribute \"Job Title\""
   ]
  },
  {
   "cell_type": "code",
   "execution_count": 364,
   "metadata": {},
   "outputs": [],
   "source": [
    "#ทำการ lower txt ใน Location เพื่อทำสามารถดึงข้อมูลได้อย่างครบถ้วน \n",
    "data['Job Title'] = data['Job Title'].str.lower()"
   ]
  },
  {
   "cell_type": "code",
   "execution_count": 365,
   "metadata": {},
   "outputs": [],
   "source": [
    "# สร้างคอลัมน์ 'Group_job' โดยกำหนดค่าเริ่มต้นเป็น 'Other'\n",
    "data['Group_job'] = 'Other'"
   ]
  },
  {
   "cell_type": "code",
   "execution_count": 366,
   "metadata": {},
   "outputs": [],
   "source": [
    "# กำหนดเงื่อนไขสำหรับการจัดกลุ่ม\n",
    "data.loc[data['Job Title'].str.contains('dev',case=False), 'Group_job'] = 'Software_Dev'\n"
   ]
  },
  {
   "cell_type": "code",
   "execution_count": 367,
   "metadata": {},
   "outputs": [],
   "source": [
    "data.loc[data['Job Title'].str.contains('software', case=False), 'Group_job'] = 'Software_En'\n"
   ]
  },
  {
   "cell_type": "code",
   "execution_count": 368,
   "metadata": {},
   "outputs": [],
   "source": [
    "data.loc[data['Job Title'].str.contains('cloud', case=False), 'Group_job'] = 'Software_clound'"
   ]
  },
  {
   "cell_type": "code",
   "execution_count": 369,
   "metadata": {},
   "outputs": [
    {
     "data": {
      "text/plain": [
       "Group_job\n",
       "Software_En        777\n",
       "Other               50\n",
       "Software_Dev        29\n",
       "Software_clound     14\n",
       "Name: count, dtype: int64"
      ]
     },
     "execution_count": 369,
     "metadata": {},
     "output_type": "execute_result"
    }
   ],
   "source": [
    "# นับจำนวนค่าที่ไม่ซ้ำในคอลัมน์ 'Group_job'\n",
    "unique_counts = data['Group_job'].value_counts()\n",
    "unique_counts"
   ]
  },
  {
   "cell_type": "markdown",
   "metadata": {},
   "source": [
    "### สร้างตัวแปร group_mean แทนค่าว่างของเงินเดือนด้วยค่าเฉลี่ยของเงินเดือนแต่ละกรุ๊ป"
   ]
  },
  {
   "cell_type": "code",
   "execution_count": 370,
   "metadata": {},
   "outputs": [],
   "source": [
    "# คำนวณค่าเฉลี่ยของ Mid_Salary ตาม Group_job\n",
    "group_mean = data.groupby('Group_job')['Mid_Salary'].transform('mean')"
   ]
  },
  {
   "cell_type": "code",
   "execution_count": 371,
   "metadata": {},
   "outputs": [
    {
     "name": "stderr",
     "output_type": "stream",
     "text": [
      "C:\\Users\\pwb\\AppData\\Local\\Temp\\ipykernel_6632\\1903364272.py:2: FutureWarning: A value is trying to be set on a copy of a DataFrame or Series through chained assignment using an inplace method.\n",
      "The behavior will change in pandas 3.0. This inplace method will never work because the intermediate object on which we are setting values always behaves as a copy.\n",
      "\n",
      "For example, when doing 'df[col].method(value, inplace=True)', try using 'df.method({col: value}, inplace=True)' or df[col] = df[col].method(value) instead, to perform the operation inplace on the original object.\n",
      "\n",
      "\n",
      "  data['Mid_Salary'].fillna(group_mean, inplace=True)\n"
     ]
    },
    {
     "data": {
      "text/html": [
       "<div>\n",
       "<style scoped>\n",
       "    .dataframe tbody tr th:only-of-type {\n",
       "        vertical-align: middle;\n",
       "    }\n",
       "\n",
       "    .dataframe tbody tr th {\n",
       "        vertical-align: top;\n",
       "    }\n",
       "\n",
       "    .dataframe thead th {\n",
       "        text-align: right;\n",
       "    }\n",
       "</style>\n",
       "<table border=\"1\" class=\"dataframe\">\n",
       "  <thead>\n",
       "    <tr style=\"text-align: right;\">\n",
       "      <th></th>\n",
       "      <th>Company</th>\n",
       "      <th>Company Score</th>\n",
       "      <th>Job Title</th>\n",
       "      <th>Location</th>\n",
       "      <th>Date</th>\n",
       "      <th>Salary</th>\n",
       "      <th>City</th>\n",
       "      <th>state</th>\n",
       "      <th>LowerSalary</th>\n",
       "      <th>UpperSalary</th>\n",
       "      <th>Mid_Salary</th>\n",
       "      <th>Remote</th>\n",
       "      <th>Group_job</th>\n",
       "    </tr>\n",
       "  </thead>\n",
       "  <tbody>\n",
       "    <tr>\n",
       "      <th>0</th>\n",
       "      <td>ViewSoft</td>\n",
       "      <td>4.8</td>\n",
       "      <td>software engineer</td>\n",
       "      <td>Manassas, VA</td>\n",
       "      <td>8d</td>\n",
       "      <td>$68K - $94K (Glassdoor est.)</td>\n",
       "      <td>Manassas</td>\n",
       "      <td>VA</td>\n",
       "      <td>68.0</td>\n",
       "      <td>94.0</td>\n",
       "      <td>81.000000</td>\n",
       "      <td>No</td>\n",
       "      <td>Software_En</td>\n",
       "    </tr>\n",
       "    <tr>\n",
       "      <th>1</th>\n",
       "      <td>Workiva</td>\n",
       "      <td>4.3</td>\n",
       "      <td>software support engineer</td>\n",
       "      <td>Remote</td>\n",
       "      <td>2d</td>\n",
       "      <td>$61K - $104K (Employer est.)</td>\n",
       "      <td>Remote</td>\n",
       "      <td>None</td>\n",
       "      <td>61.0</td>\n",
       "      <td>104.0</td>\n",
       "      <td>82.500000</td>\n",
       "      <td>Yes</td>\n",
       "      <td>Software_En</td>\n",
       "    </tr>\n",
       "    <tr>\n",
       "      <th>2</th>\n",
       "      <td>Garmin International, Inc.</td>\n",
       "      <td>3.9</td>\n",
       "      <td>c# software engineer</td>\n",
       "      <td>Cary, NC</td>\n",
       "      <td>2d</td>\n",
       "      <td>$95K - $118K (Glassdoor est.)</td>\n",
       "      <td>Cary</td>\n",
       "      <td>NC</td>\n",
       "      <td>95.0</td>\n",
       "      <td>118.0</td>\n",
       "      <td>106.500000</td>\n",
       "      <td>No</td>\n",
       "      <td>Software_En</td>\n",
       "    </tr>\n",
       "    <tr>\n",
       "      <th>3</th>\n",
       "      <td>Snapchat</td>\n",
       "      <td>3.5</td>\n",
       "      <td>software engineer, fullstack, 1+ years of expe...</td>\n",
       "      <td>Los Angeles, CA</td>\n",
       "      <td>2d</td>\n",
       "      <td>$97K - $145K (Employer est.)</td>\n",
       "      <td>Los Angeles</td>\n",
       "      <td>CA</td>\n",
       "      <td>97.0</td>\n",
       "      <td>145.0</td>\n",
       "      <td>121.000000</td>\n",
       "      <td>No</td>\n",
       "      <td>Software_En</td>\n",
       "    </tr>\n",
       "    <tr>\n",
       "      <th>4</th>\n",
       "      <td>Vitesco Technologies Group AG</td>\n",
       "      <td>3.1</td>\n",
       "      <td>software engineer</td>\n",
       "      <td>Seguin, TX</td>\n",
       "      <td>2d</td>\n",
       "      <td>$85K - $108K (Glassdoor est.)</td>\n",
       "      <td>Seguin</td>\n",
       "      <td>TX</td>\n",
       "      <td>85.0</td>\n",
       "      <td>108.0</td>\n",
       "      <td>96.500000</td>\n",
       "      <td>No</td>\n",
       "      <td>Software_En</td>\n",
       "    </tr>\n",
       "    <tr>\n",
       "      <th>...</th>\n",
       "      <td>...</td>\n",
       "      <td>...</td>\n",
       "      <td>...</td>\n",
       "      <td>...</td>\n",
       "      <td>...</td>\n",
       "      <td>...</td>\n",
       "      <td>...</td>\n",
       "      <td>...</td>\n",
       "      <td>...</td>\n",
       "      <td>...</td>\n",
       "      <td>...</td>\n",
       "      <td>...</td>\n",
       "      <td>...</td>\n",
       "    </tr>\n",
       "    <tr>\n",
       "      <th>865</th>\n",
       "      <td>RXO</td>\n",
       "      <td>NaN</td>\n",
       "      <td>software engineer, machine learning compute</td>\n",
       "      <td>San Francisco, CA</td>\n",
       "      <td>6d</td>\n",
       "      <td>NaN</td>\n",
       "      <td>San Francisco</td>\n",
       "      <td>CA</td>\n",
       "      <td>NaN</td>\n",
       "      <td>NaN</td>\n",
       "      <td>129.336193</td>\n",
       "      <td>No</td>\n",
       "      <td>Software_En</td>\n",
       "    </tr>\n",
       "    <tr>\n",
       "      <th>866</th>\n",
       "      <td>Infosys</td>\n",
       "      <td>NaN</td>\n",
       "      <td>software engineer - 3 (apache nifi)</td>\n",
       "      <td>Annapolis Junction, MD</td>\n",
       "      <td>18d</td>\n",
       "      <td>NaN</td>\n",
       "      <td>Annapolis Junction</td>\n",
       "      <td>MD</td>\n",
       "      <td>NaN</td>\n",
       "      <td>NaN</td>\n",
       "      <td>129.336193</td>\n",
       "      <td>No</td>\n",
       "      <td>Software_En</td>\n",
       "    </tr>\n",
       "    <tr>\n",
       "      <th>867</th>\n",
       "      <td>Medtronic</td>\n",
       "      <td>NaN</td>\n",
       "      <td>senior software engineer</td>\n",
       "      <td>Southfield, MI</td>\n",
       "      <td>19d</td>\n",
       "      <td>NaN</td>\n",
       "      <td>Southfield</td>\n",
       "      <td>MI</td>\n",
       "      <td>NaN</td>\n",
       "      <td>NaN</td>\n",
       "      <td>129.336193</td>\n",
       "      <td>No</td>\n",
       "      <td>Software_En</td>\n",
       "    </tr>\n",
       "    <tr>\n",
       "      <th>868</th>\n",
       "      <td>NaN</td>\n",
       "      <td>NaN</td>\n",
       "      <td>junior python developer</td>\n",
       "      <td>Charlotte, NC</td>\n",
       "      <td>2d</td>\n",
       "      <td>NaN</td>\n",
       "      <td>Charlotte</td>\n",
       "      <td>NC</td>\n",
       "      <td>NaN</td>\n",
       "      <td>NaN</td>\n",
       "      <td>137.296296</td>\n",
       "      <td>No</td>\n",
       "      <td>Software_Dev</td>\n",
       "    </tr>\n",
       "    <tr>\n",
       "      <th>869</th>\n",
       "      <td>NaN</td>\n",
       "      <td>NaN</td>\n",
       "      <td>gui software engineer ii - surgical robotics</td>\n",
       "      <td>Boston, MA</td>\n",
       "      <td>10d</td>\n",
       "      <td>NaN</td>\n",
       "      <td>Boston</td>\n",
       "      <td>MA</td>\n",
       "      <td>NaN</td>\n",
       "      <td>NaN</td>\n",
       "      <td>129.336193</td>\n",
       "      <td>No</td>\n",
       "      <td>Software_En</td>\n",
       "    </tr>\n",
       "  </tbody>\n",
       "</table>\n",
       "<p>870 rows × 13 columns</p>\n",
       "</div>"
      ],
      "text/plain": [
       "                           Company  Company Score  \\\n",
       "0                         ViewSoft            4.8   \n",
       "1                          Workiva            4.3   \n",
       "2       Garmin International, Inc.            3.9   \n",
       "3                         Snapchat            3.5   \n",
       "4    Vitesco Technologies Group AG            3.1   \n",
       "..                             ...            ...   \n",
       "865                            RXO            NaN   \n",
       "866                        Infosys            NaN   \n",
       "867                      Medtronic            NaN   \n",
       "868                            NaN            NaN   \n",
       "869                            NaN            NaN   \n",
       "\n",
       "                                             Job Title  \\\n",
       "0                                    software engineer   \n",
       "1                            software support engineer   \n",
       "2                                 c# software engineer   \n",
       "3    software engineer, fullstack, 1+ years of expe...   \n",
       "4                                    software engineer   \n",
       "..                                                 ...   \n",
       "865        software engineer, machine learning compute   \n",
       "866                software engineer - 3 (apache nifi)   \n",
       "867                           senior software engineer   \n",
       "868                            junior python developer   \n",
       "869       gui software engineer ii - surgical robotics   \n",
       "\n",
       "                   Location Date                         Salary  \\\n",
       "0              Manassas, VA   8d   $68K - $94K (Glassdoor est.)   \n",
       "1                    Remote   2d   $61K - $104K (Employer est.)   \n",
       "2                  Cary, NC   2d  $95K - $118K (Glassdoor est.)   \n",
       "3           Los Angeles, CA   2d   $97K - $145K (Employer est.)   \n",
       "4                Seguin, TX   2d  $85K - $108K (Glassdoor est.)   \n",
       "..                      ...  ...                            ...   \n",
       "865       San Francisco, CA   6d                            NaN   \n",
       "866  Annapolis Junction, MD  18d                            NaN   \n",
       "867          Southfield, MI  19d                            NaN   \n",
       "868           Charlotte, NC   2d                            NaN   \n",
       "869              Boston, MA  10d                            NaN   \n",
       "\n",
       "                   City state  LowerSalary  UpperSalary  Mid_Salary Remote  \\\n",
       "0              Manassas    VA         68.0         94.0   81.000000     No   \n",
       "1                Remote  None         61.0        104.0   82.500000    Yes   \n",
       "2                  Cary    NC         95.0        118.0  106.500000     No   \n",
       "3           Los Angeles    CA         97.0        145.0  121.000000     No   \n",
       "4                Seguin    TX         85.0        108.0   96.500000     No   \n",
       "..                  ...   ...          ...          ...         ...    ...   \n",
       "865       San Francisco    CA          NaN          NaN  129.336193     No   \n",
       "866  Annapolis Junction    MD          NaN          NaN  129.336193     No   \n",
       "867          Southfield    MI          NaN          NaN  129.336193     No   \n",
       "868           Charlotte    NC          NaN          NaN  137.296296     No   \n",
       "869              Boston    MA          NaN          NaN  129.336193     No   \n",
       "\n",
       "        Group_job  \n",
       "0     Software_En  \n",
       "1     Software_En  \n",
       "2     Software_En  \n",
       "3     Software_En  \n",
       "4     Software_En  \n",
       "..            ...  \n",
       "865   Software_En  \n",
       "866   Software_En  \n",
       "867   Software_En  \n",
       "868  Software_Dev  \n",
       "869   Software_En  \n",
       "\n",
       "[870 rows x 13 columns]"
      ]
     },
     "execution_count": 371,
     "metadata": {},
     "output_type": "execute_result"
    }
   ],
   "source": [
    "# แทนค่าว่างใน Mid_Salary ด้วยค่าเฉลี่ยของกลุ่ม\n",
    "data['Mid_Salary'].fillna(group_mean, inplace=True)\n",
    "data"
   ]
  },
  {
   "cell_type": "code",
   "execution_count": 372,
   "metadata": {},
   "outputs": [
    {
     "data": {
      "text/html": [
       "<div>\n",
       "<style scoped>\n",
       "    .dataframe tbody tr th:only-of-type {\n",
       "        vertical-align: middle;\n",
       "    }\n",
       "\n",
       "    .dataframe tbody tr th {\n",
       "        vertical-align: top;\n",
       "    }\n",
       "\n",
       "    .dataframe thead th {\n",
       "        text-align: right;\n",
       "    }\n",
       "</style>\n",
       "<table border=\"1\" class=\"dataframe\">\n",
       "  <thead>\n",
       "    <tr style=\"text-align: right;\">\n",
       "      <th></th>\n",
       "      <th>Company</th>\n",
       "      <th>Company Score</th>\n",
       "      <th>Job Title</th>\n",
       "      <th>Location</th>\n",
       "      <th>Date</th>\n",
       "      <th>Salary</th>\n",
       "      <th>City</th>\n",
       "      <th>state</th>\n",
       "      <th>LowerSalary</th>\n",
       "      <th>UpperSalary</th>\n",
       "      <th>Mid_Salary</th>\n",
       "      <th>Remote</th>\n",
       "      <th>Group_job</th>\n",
       "      <th>Salary_Range</th>\n",
       "    </tr>\n",
       "  </thead>\n",
       "  <tbody>\n",
       "    <tr>\n",
       "      <th>0</th>\n",
       "      <td>ViewSoft</td>\n",
       "      <td>4.8</td>\n",
       "      <td>software engineer</td>\n",
       "      <td>Manassas, VA</td>\n",
       "      <td>8d</td>\n",
       "      <td>$68K - $94K (Glassdoor est.)</td>\n",
       "      <td>Manassas</td>\n",
       "      <td>VA</td>\n",
       "      <td>68.0</td>\n",
       "      <td>94.0</td>\n",
       "      <td>81.000000</td>\n",
       "      <td>No</td>\n",
       "      <td>Software_En</td>\n",
       "      <td>50-100</td>\n",
       "    </tr>\n",
       "    <tr>\n",
       "      <th>1</th>\n",
       "      <td>Workiva</td>\n",
       "      <td>4.3</td>\n",
       "      <td>software support engineer</td>\n",
       "      <td>Remote</td>\n",
       "      <td>2d</td>\n",
       "      <td>$61K - $104K (Employer est.)</td>\n",
       "      <td>Remote</td>\n",
       "      <td>None</td>\n",
       "      <td>61.0</td>\n",
       "      <td>104.0</td>\n",
       "      <td>82.500000</td>\n",
       "      <td>Yes</td>\n",
       "      <td>Software_En</td>\n",
       "      <td>50-100</td>\n",
       "    </tr>\n",
       "    <tr>\n",
       "      <th>2</th>\n",
       "      <td>Garmin International, Inc.</td>\n",
       "      <td>3.9</td>\n",
       "      <td>c# software engineer</td>\n",
       "      <td>Cary, NC</td>\n",
       "      <td>2d</td>\n",
       "      <td>$95K - $118K (Glassdoor est.)</td>\n",
       "      <td>Cary</td>\n",
       "      <td>NC</td>\n",
       "      <td>95.0</td>\n",
       "      <td>118.0</td>\n",
       "      <td>106.500000</td>\n",
       "      <td>No</td>\n",
       "      <td>Software_En</td>\n",
       "      <td>101-150</td>\n",
       "    </tr>\n",
       "    <tr>\n",
       "      <th>3</th>\n",
       "      <td>Snapchat</td>\n",
       "      <td>3.5</td>\n",
       "      <td>software engineer, fullstack, 1+ years of expe...</td>\n",
       "      <td>Los Angeles, CA</td>\n",
       "      <td>2d</td>\n",
       "      <td>$97K - $145K (Employer est.)</td>\n",
       "      <td>Los Angeles</td>\n",
       "      <td>CA</td>\n",
       "      <td>97.0</td>\n",
       "      <td>145.0</td>\n",
       "      <td>121.000000</td>\n",
       "      <td>No</td>\n",
       "      <td>Software_En</td>\n",
       "      <td>101-150</td>\n",
       "    </tr>\n",
       "    <tr>\n",
       "      <th>4</th>\n",
       "      <td>Vitesco Technologies Group AG</td>\n",
       "      <td>3.1</td>\n",
       "      <td>software engineer</td>\n",
       "      <td>Seguin, TX</td>\n",
       "      <td>2d</td>\n",
       "      <td>$85K - $108K (Glassdoor est.)</td>\n",
       "      <td>Seguin</td>\n",
       "      <td>TX</td>\n",
       "      <td>85.0</td>\n",
       "      <td>108.0</td>\n",
       "      <td>96.500000</td>\n",
       "      <td>No</td>\n",
       "      <td>Software_En</td>\n",
       "      <td>50-100</td>\n",
       "    </tr>\n",
       "    <tr>\n",
       "      <th>...</th>\n",
       "      <td>...</td>\n",
       "      <td>...</td>\n",
       "      <td>...</td>\n",
       "      <td>...</td>\n",
       "      <td>...</td>\n",
       "      <td>...</td>\n",
       "      <td>...</td>\n",
       "      <td>...</td>\n",
       "      <td>...</td>\n",
       "      <td>...</td>\n",
       "      <td>...</td>\n",
       "      <td>...</td>\n",
       "      <td>...</td>\n",
       "      <td>...</td>\n",
       "    </tr>\n",
       "    <tr>\n",
       "      <th>865</th>\n",
       "      <td>RXO</td>\n",
       "      <td>NaN</td>\n",
       "      <td>software engineer, machine learning compute</td>\n",
       "      <td>San Francisco, CA</td>\n",
       "      <td>6d</td>\n",
       "      <td>NaN</td>\n",
       "      <td>San Francisco</td>\n",
       "      <td>CA</td>\n",
       "      <td>NaN</td>\n",
       "      <td>NaN</td>\n",
       "      <td>129.336193</td>\n",
       "      <td>No</td>\n",
       "      <td>Software_En</td>\n",
       "      <td>101-150</td>\n",
       "    </tr>\n",
       "    <tr>\n",
       "      <th>866</th>\n",
       "      <td>Infosys</td>\n",
       "      <td>NaN</td>\n",
       "      <td>software engineer - 3 (apache nifi)</td>\n",
       "      <td>Annapolis Junction, MD</td>\n",
       "      <td>18d</td>\n",
       "      <td>NaN</td>\n",
       "      <td>Annapolis Junction</td>\n",
       "      <td>MD</td>\n",
       "      <td>NaN</td>\n",
       "      <td>NaN</td>\n",
       "      <td>129.336193</td>\n",
       "      <td>No</td>\n",
       "      <td>Software_En</td>\n",
       "      <td>101-150</td>\n",
       "    </tr>\n",
       "    <tr>\n",
       "      <th>867</th>\n",
       "      <td>Medtronic</td>\n",
       "      <td>NaN</td>\n",
       "      <td>senior software engineer</td>\n",
       "      <td>Southfield, MI</td>\n",
       "      <td>19d</td>\n",
       "      <td>NaN</td>\n",
       "      <td>Southfield</td>\n",
       "      <td>MI</td>\n",
       "      <td>NaN</td>\n",
       "      <td>NaN</td>\n",
       "      <td>129.336193</td>\n",
       "      <td>No</td>\n",
       "      <td>Software_En</td>\n",
       "      <td>101-150</td>\n",
       "    </tr>\n",
       "    <tr>\n",
       "      <th>868</th>\n",
       "      <td>NaN</td>\n",
       "      <td>NaN</td>\n",
       "      <td>junior python developer</td>\n",
       "      <td>Charlotte, NC</td>\n",
       "      <td>2d</td>\n",
       "      <td>NaN</td>\n",
       "      <td>Charlotte</td>\n",
       "      <td>NC</td>\n",
       "      <td>NaN</td>\n",
       "      <td>NaN</td>\n",
       "      <td>137.296296</td>\n",
       "      <td>No</td>\n",
       "      <td>Software_Dev</td>\n",
       "      <td>101-150</td>\n",
       "    </tr>\n",
       "    <tr>\n",
       "      <th>869</th>\n",
       "      <td>NaN</td>\n",
       "      <td>NaN</td>\n",
       "      <td>gui software engineer ii - surgical robotics</td>\n",
       "      <td>Boston, MA</td>\n",
       "      <td>10d</td>\n",
       "      <td>NaN</td>\n",
       "      <td>Boston</td>\n",
       "      <td>MA</td>\n",
       "      <td>NaN</td>\n",
       "      <td>NaN</td>\n",
       "      <td>129.336193</td>\n",
       "      <td>No</td>\n",
       "      <td>Software_En</td>\n",
       "      <td>101-150</td>\n",
       "    </tr>\n",
       "  </tbody>\n",
       "</table>\n",
       "<p>870 rows × 14 columns</p>\n",
       "</div>"
      ],
      "text/plain": [
       "                           Company  Company Score  \\\n",
       "0                         ViewSoft            4.8   \n",
       "1                          Workiva            4.3   \n",
       "2       Garmin International, Inc.            3.9   \n",
       "3                         Snapchat            3.5   \n",
       "4    Vitesco Technologies Group AG            3.1   \n",
       "..                             ...            ...   \n",
       "865                            RXO            NaN   \n",
       "866                        Infosys            NaN   \n",
       "867                      Medtronic            NaN   \n",
       "868                            NaN            NaN   \n",
       "869                            NaN            NaN   \n",
       "\n",
       "                                             Job Title  \\\n",
       "0                                    software engineer   \n",
       "1                            software support engineer   \n",
       "2                                 c# software engineer   \n",
       "3    software engineer, fullstack, 1+ years of expe...   \n",
       "4                                    software engineer   \n",
       "..                                                 ...   \n",
       "865        software engineer, machine learning compute   \n",
       "866                software engineer - 3 (apache nifi)   \n",
       "867                           senior software engineer   \n",
       "868                            junior python developer   \n",
       "869       gui software engineer ii - surgical robotics   \n",
       "\n",
       "                   Location Date                         Salary  \\\n",
       "0              Manassas, VA   8d   $68K - $94K (Glassdoor est.)   \n",
       "1                    Remote   2d   $61K - $104K (Employer est.)   \n",
       "2                  Cary, NC   2d  $95K - $118K (Glassdoor est.)   \n",
       "3           Los Angeles, CA   2d   $97K - $145K (Employer est.)   \n",
       "4                Seguin, TX   2d  $85K - $108K (Glassdoor est.)   \n",
       "..                      ...  ...                            ...   \n",
       "865       San Francisco, CA   6d                            NaN   \n",
       "866  Annapolis Junction, MD  18d                            NaN   \n",
       "867          Southfield, MI  19d                            NaN   \n",
       "868           Charlotte, NC   2d                            NaN   \n",
       "869              Boston, MA  10d                            NaN   \n",
       "\n",
       "                   City state  LowerSalary  UpperSalary  Mid_Salary Remote  \\\n",
       "0              Manassas    VA         68.0         94.0   81.000000     No   \n",
       "1                Remote  None         61.0        104.0   82.500000    Yes   \n",
       "2                  Cary    NC         95.0        118.0  106.500000     No   \n",
       "3           Los Angeles    CA         97.0        145.0  121.000000     No   \n",
       "4                Seguin    TX         85.0        108.0   96.500000     No   \n",
       "..                  ...   ...          ...          ...         ...    ...   \n",
       "865       San Francisco    CA          NaN          NaN  129.336193     No   \n",
       "866  Annapolis Junction    MD          NaN          NaN  129.336193     No   \n",
       "867          Southfield    MI          NaN          NaN  129.336193     No   \n",
       "868           Charlotte    NC          NaN          NaN  137.296296     No   \n",
       "869              Boston    MA          NaN          NaN  129.336193     No   \n",
       "\n",
       "        Group_job Salary_Range  \n",
       "0     Software_En       50-100  \n",
       "1     Software_En       50-100  \n",
       "2     Software_En      101-150  \n",
       "3     Software_En      101-150  \n",
       "4     Software_En       50-100  \n",
       "..            ...          ...  \n",
       "865   Software_En      101-150  \n",
       "866   Software_En      101-150  \n",
       "867   Software_En      101-150  \n",
       "868  Software_Dev      101-150  \n",
       "869   Software_En      101-150  \n",
       "\n",
       "[870 rows x 14 columns]"
      ]
     },
     "execution_count": 372,
     "metadata": {},
     "output_type": "execute_result"
    }
   ],
   "source": [
    "#แบ่งกลุ่มระดับเงินเป็น 5 ช่วง เท่าๆกัน \n",
    "# สร้างช่วงเงินเดือนที่กำหนดเอง\n",
    "bins = [-float('inf'), 50, 100, 150, 200,250,300,350,float('inf')]  # ขีดจำกัดของแต่ละช่วง\n",
    "labels = ['<50', '50-100', '101-150', '151-200','201-250','251-300','301-350','>350']  # ป้ายกำกับแต่ละช่วง\n",
    "# แบ่งข้อมูลเงินเดือน (Mid_Salary) ออกเป็นช่วง\n",
    "data['Salary_Range'] = pd.cut(data['Mid_Salary'], bins=bins, labels=labels, right=True)\n",
    "data['Salary_Range'].value_counts()\n",
    "data"
   ]
  },
  {
   "cell_type": "markdown",
   "metadata": {},
   "source": [
    "## Clean and Prepare Attribute \"Company\""
   ]
  },
  {
   "cell_type": "code",
   "execution_count": 373,
   "metadata": {},
   "outputs": [
    {
     "name": "stderr",
     "output_type": "stream",
     "text": [
      "C:\\Users\\pwb\\AppData\\Local\\Temp\\ipykernel_6632\\2667829546.py:2: FutureWarning: A value is trying to be set on a copy of a DataFrame or Series through chained assignment using an inplace method.\n",
      "The behavior will change in pandas 3.0. This inplace method will never work because the intermediate object on which we are setting values always behaves as a copy.\n",
      "\n",
      "For example, when doing 'df[col].method(value, inplace=True)', try using 'df.method({col: value}, inplace=True)' or df[col] = df[col].method(value) instead, to perform the operation inplace on the original object.\n",
      "\n",
      "\n",
      "  data['Company'].fillna('Unknow',inplace=True)\n"
     ]
    },
    {
     "data": {
      "text/html": [
       "<div>\n",
       "<style scoped>\n",
       "    .dataframe tbody tr th:only-of-type {\n",
       "        vertical-align: middle;\n",
       "    }\n",
       "\n",
       "    .dataframe tbody tr th {\n",
       "        vertical-align: top;\n",
       "    }\n",
       "\n",
       "    .dataframe thead th {\n",
       "        text-align: right;\n",
       "    }\n",
       "</style>\n",
       "<table border=\"1\" class=\"dataframe\">\n",
       "  <thead>\n",
       "    <tr style=\"text-align: right;\">\n",
       "      <th></th>\n",
       "      <th>Company</th>\n",
       "      <th>Company Score</th>\n",
       "      <th>Job Title</th>\n",
       "      <th>Location</th>\n",
       "      <th>Date</th>\n",
       "      <th>Salary</th>\n",
       "      <th>City</th>\n",
       "      <th>state</th>\n",
       "      <th>LowerSalary</th>\n",
       "      <th>UpperSalary</th>\n",
       "      <th>Mid_Salary</th>\n",
       "      <th>Remote</th>\n",
       "      <th>Group_job</th>\n",
       "      <th>Salary_Range</th>\n",
       "    </tr>\n",
       "  </thead>\n",
       "  <tbody>\n",
       "    <tr>\n",
       "      <th>0</th>\n",
       "      <td>ViewSoft</td>\n",
       "      <td>4.8</td>\n",
       "      <td>software engineer</td>\n",
       "      <td>Manassas, VA</td>\n",
       "      <td>8d</td>\n",
       "      <td>$68K - $94K (Glassdoor est.)</td>\n",
       "      <td>Manassas</td>\n",
       "      <td>VA</td>\n",
       "      <td>68.0</td>\n",
       "      <td>94.0</td>\n",
       "      <td>81.0</td>\n",
       "      <td>No</td>\n",
       "      <td>Software_En</td>\n",
       "      <td>50-100</td>\n",
       "    </tr>\n",
       "    <tr>\n",
       "      <th>1</th>\n",
       "      <td>Workiva</td>\n",
       "      <td>4.3</td>\n",
       "      <td>software support engineer</td>\n",
       "      <td>Remote</td>\n",
       "      <td>2d</td>\n",
       "      <td>$61K - $104K (Employer est.)</td>\n",
       "      <td>Remote</td>\n",
       "      <td>None</td>\n",
       "      <td>61.0</td>\n",
       "      <td>104.0</td>\n",
       "      <td>82.5</td>\n",
       "      <td>Yes</td>\n",
       "      <td>Software_En</td>\n",
       "      <td>50-100</td>\n",
       "    </tr>\n",
       "    <tr>\n",
       "      <th>2</th>\n",
       "      <td>Garmin International, Inc.</td>\n",
       "      <td>3.9</td>\n",
       "      <td>c# software engineer</td>\n",
       "      <td>Cary, NC</td>\n",
       "      <td>2d</td>\n",
       "      <td>$95K - $118K (Glassdoor est.)</td>\n",
       "      <td>Cary</td>\n",
       "      <td>NC</td>\n",
       "      <td>95.0</td>\n",
       "      <td>118.0</td>\n",
       "      <td>106.5</td>\n",
       "      <td>No</td>\n",
       "      <td>Software_En</td>\n",
       "      <td>101-150</td>\n",
       "    </tr>\n",
       "    <tr>\n",
       "      <th>3</th>\n",
       "      <td>Snapchat</td>\n",
       "      <td>3.5</td>\n",
       "      <td>software engineer, fullstack, 1+ years of expe...</td>\n",
       "      <td>Los Angeles, CA</td>\n",
       "      <td>2d</td>\n",
       "      <td>$97K - $145K (Employer est.)</td>\n",
       "      <td>Los Angeles</td>\n",
       "      <td>CA</td>\n",
       "      <td>97.0</td>\n",
       "      <td>145.0</td>\n",
       "      <td>121.0</td>\n",
       "      <td>No</td>\n",
       "      <td>Software_En</td>\n",
       "      <td>101-150</td>\n",
       "    </tr>\n",
       "    <tr>\n",
       "      <th>4</th>\n",
       "      <td>Vitesco Technologies Group AG</td>\n",
       "      <td>3.1</td>\n",
       "      <td>software engineer</td>\n",
       "      <td>Seguin, TX</td>\n",
       "      <td>2d</td>\n",
       "      <td>$85K - $108K (Glassdoor est.)</td>\n",
       "      <td>Seguin</td>\n",
       "      <td>TX</td>\n",
       "      <td>85.0</td>\n",
       "      <td>108.0</td>\n",
       "      <td>96.5</td>\n",
       "      <td>No</td>\n",
       "      <td>Software_En</td>\n",
       "      <td>50-100</td>\n",
       "    </tr>\n",
       "  </tbody>\n",
       "</table>\n",
       "</div>"
      ],
      "text/plain": [
       "                         Company  Company Score  \\\n",
       "0                       ViewSoft            4.8   \n",
       "1                        Workiva            4.3   \n",
       "2     Garmin International, Inc.            3.9   \n",
       "3                       Snapchat            3.5   \n",
       "4  Vitesco Technologies Group AG            3.1   \n",
       "\n",
       "                                           Job Title         Location Date  \\\n",
       "0                                  software engineer     Manassas, VA   8d   \n",
       "1                          software support engineer           Remote   2d   \n",
       "2                               c# software engineer         Cary, NC   2d   \n",
       "3  software engineer, fullstack, 1+ years of expe...  Los Angeles, CA   2d   \n",
       "4                                  software engineer       Seguin, TX   2d   \n",
       "\n",
       "                          Salary         City state  LowerSalary  UpperSalary  \\\n",
       "0   $68K - $94K (Glassdoor est.)     Manassas    VA         68.0         94.0   \n",
       "1   $61K - $104K (Employer est.)       Remote  None         61.0        104.0   \n",
       "2  $95K - $118K (Glassdoor est.)         Cary    NC         95.0        118.0   \n",
       "3   $97K - $145K (Employer est.)  Los Angeles    CA         97.0        145.0   \n",
       "4  $85K - $108K (Glassdoor est.)       Seguin    TX         85.0        108.0   \n",
       "\n",
       "   Mid_Salary Remote    Group_job Salary_Range  \n",
       "0        81.0     No  Software_En       50-100  \n",
       "1        82.5    Yes  Software_En       50-100  \n",
       "2       106.5     No  Software_En      101-150  \n",
       "3       121.0     No  Software_En      101-150  \n",
       "4        96.5     No  Software_En       50-100  "
      ]
     },
     "execution_count": 373,
     "metadata": {},
     "output_type": "execute_result"
    }
   ],
   "source": [
    "data.columns\n",
    "data['Company'].fillna('Unknow',inplace=True)\n",
    "data.head()\n"
   ]
  },
  {
   "cell_type": "markdown",
   "metadata": {},
   "source": [
    "## Clean and Prepare Attribute \"Company Score\""
   ]
  },
  {
   "cell_type": "code",
   "execution_count": 374,
   "metadata": {},
   "outputs": [
    {
     "name": "stderr",
     "output_type": "stream",
     "text": [
      "C:\\Users\\pwb\\AppData\\Local\\Temp\\ipykernel_6632\\1402146075.py:1: FutureWarning: A value is trying to be set on a copy of a DataFrame or Series through chained assignment using an inplace method.\n",
      "The behavior will change in pandas 3.0. This inplace method will never work because the intermediate object on which we are setting values always behaves as a copy.\n",
      "\n",
      "For example, when doing 'df[col].method(value, inplace=True)', try using 'df.method({col: value}, inplace=True)' or df[col] = df[col].method(value) instead, to perform the operation inplace on the original object.\n",
      "\n",
      "\n",
      "  data['Company Score'].fillna(data['Company Score'].mean(),inplace=True)\n"
     ]
    },
    {
     "data": {
      "text/html": [
       "<div>\n",
       "<style scoped>\n",
       "    .dataframe tbody tr th:only-of-type {\n",
       "        vertical-align: middle;\n",
       "    }\n",
       "\n",
       "    .dataframe tbody tr th {\n",
       "        vertical-align: top;\n",
       "    }\n",
       "\n",
       "    .dataframe thead th {\n",
       "        text-align: right;\n",
       "    }\n",
       "</style>\n",
       "<table border=\"1\" class=\"dataframe\">\n",
       "  <thead>\n",
       "    <tr style=\"text-align: right;\">\n",
       "      <th></th>\n",
       "      <th>Company</th>\n",
       "      <th>Company Score</th>\n",
       "      <th>Job Title</th>\n",
       "      <th>Location</th>\n",
       "      <th>Date</th>\n",
       "      <th>Salary</th>\n",
       "      <th>City</th>\n",
       "      <th>state</th>\n",
       "      <th>LowerSalary</th>\n",
       "      <th>UpperSalary</th>\n",
       "      <th>Mid_Salary</th>\n",
       "      <th>Remote</th>\n",
       "      <th>Group_job</th>\n",
       "      <th>Salary_Range</th>\n",
       "    </tr>\n",
       "  </thead>\n",
       "  <tbody>\n",
       "    <tr>\n",
       "      <th>0</th>\n",
       "      <td>ViewSoft</td>\n",
       "      <td>4.8</td>\n",
       "      <td>software engineer</td>\n",
       "      <td>Manassas, VA</td>\n",
       "      <td>8d</td>\n",
       "      <td>$68K - $94K (Glassdoor est.)</td>\n",
       "      <td>Manassas</td>\n",
       "      <td>VA</td>\n",
       "      <td>68.0</td>\n",
       "      <td>94.0</td>\n",
       "      <td>81.0</td>\n",
       "      <td>No</td>\n",
       "      <td>Software_En</td>\n",
       "      <td>50-100</td>\n",
       "    </tr>\n",
       "    <tr>\n",
       "      <th>1</th>\n",
       "      <td>Workiva</td>\n",
       "      <td>4.3</td>\n",
       "      <td>software support engineer</td>\n",
       "      <td>Remote</td>\n",
       "      <td>2d</td>\n",
       "      <td>$61K - $104K (Employer est.)</td>\n",
       "      <td>Remote</td>\n",
       "      <td>None</td>\n",
       "      <td>61.0</td>\n",
       "      <td>104.0</td>\n",
       "      <td>82.5</td>\n",
       "      <td>Yes</td>\n",
       "      <td>Software_En</td>\n",
       "      <td>50-100</td>\n",
       "    </tr>\n",
       "    <tr>\n",
       "      <th>2</th>\n",
       "      <td>Garmin International, Inc.</td>\n",
       "      <td>3.9</td>\n",
       "      <td>c# software engineer</td>\n",
       "      <td>Cary, NC</td>\n",
       "      <td>2d</td>\n",
       "      <td>$95K - $118K (Glassdoor est.)</td>\n",
       "      <td>Cary</td>\n",
       "      <td>NC</td>\n",
       "      <td>95.0</td>\n",
       "      <td>118.0</td>\n",
       "      <td>106.5</td>\n",
       "      <td>No</td>\n",
       "      <td>Software_En</td>\n",
       "      <td>101-150</td>\n",
       "    </tr>\n",
       "    <tr>\n",
       "      <th>3</th>\n",
       "      <td>Snapchat</td>\n",
       "      <td>3.5</td>\n",
       "      <td>software engineer, fullstack, 1+ years of expe...</td>\n",
       "      <td>Los Angeles, CA</td>\n",
       "      <td>2d</td>\n",
       "      <td>$97K - $145K (Employer est.)</td>\n",
       "      <td>Los Angeles</td>\n",
       "      <td>CA</td>\n",
       "      <td>97.0</td>\n",
       "      <td>145.0</td>\n",
       "      <td>121.0</td>\n",
       "      <td>No</td>\n",
       "      <td>Software_En</td>\n",
       "      <td>101-150</td>\n",
       "    </tr>\n",
       "    <tr>\n",
       "      <th>4</th>\n",
       "      <td>Vitesco Technologies Group AG</td>\n",
       "      <td>3.1</td>\n",
       "      <td>software engineer</td>\n",
       "      <td>Seguin, TX</td>\n",
       "      <td>2d</td>\n",
       "      <td>$85K - $108K (Glassdoor est.)</td>\n",
       "      <td>Seguin</td>\n",
       "      <td>TX</td>\n",
       "      <td>85.0</td>\n",
       "      <td>108.0</td>\n",
       "      <td>96.5</td>\n",
       "      <td>No</td>\n",
       "      <td>Software_En</td>\n",
       "      <td>50-100</td>\n",
       "    </tr>\n",
       "  </tbody>\n",
       "</table>\n",
       "</div>"
      ],
      "text/plain": [
       "                         Company  Company Score  \\\n",
       "0                       ViewSoft            4.8   \n",
       "1                        Workiva            4.3   \n",
       "2     Garmin International, Inc.            3.9   \n",
       "3                       Snapchat            3.5   \n",
       "4  Vitesco Technologies Group AG            3.1   \n",
       "\n",
       "                                           Job Title         Location Date  \\\n",
       "0                                  software engineer     Manassas, VA   8d   \n",
       "1                          software support engineer           Remote   2d   \n",
       "2                               c# software engineer         Cary, NC   2d   \n",
       "3  software engineer, fullstack, 1+ years of expe...  Los Angeles, CA   2d   \n",
       "4                                  software engineer       Seguin, TX   2d   \n",
       "\n",
       "                          Salary         City state  LowerSalary  UpperSalary  \\\n",
       "0   $68K - $94K (Glassdoor est.)     Manassas    VA         68.0         94.0   \n",
       "1   $61K - $104K (Employer est.)       Remote  None         61.0        104.0   \n",
       "2  $95K - $118K (Glassdoor est.)         Cary    NC         95.0        118.0   \n",
       "3   $97K - $145K (Employer est.)  Los Angeles    CA         97.0        145.0   \n",
       "4  $85K - $108K (Glassdoor est.)       Seguin    TX         85.0        108.0   \n",
       "\n",
       "   Mid_Salary Remote    Group_job Salary_Range  \n",
       "0        81.0     No  Software_En       50-100  \n",
       "1        82.5    Yes  Software_En       50-100  \n",
       "2       106.5     No  Software_En      101-150  \n",
       "3       121.0     No  Software_En      101-150  \n",
       "4        96.5     No  Software_En       50-100  "
      ]
     },
     "execution_count": 374,
     "metadata": {},
     "output_type": "execute_result"
    }
   ],
   "source": [
    "data['Company Score'].fillna(data['Company Score'].mean(),inplace=True)\n",
    "data.head()"
   ]
  },
  {
   "cell_type": "code",
   "execution_count": 375,
   "metadata": {},
   "outputs": [],
   "source": [
    "# แบ่งกลุ่มคะแนนบริษัทเป็น 3 ช่วง\n",
    "# กำหนดช่วงคะแนน (เพิ่มช่วงบนเพื่อครอบคลุมคะแนนสูง)\n",
    "bins_score = [0, 2, 4, float('inf')]  # ช่วงคะแนนต่ำ, กลาง, สูง\n",
    "labels_score = ['ต่ำ', 'กลาง', 'สูง']"
   ]
  },
  {
   "cell_type": "code",
   "execution_count": 376,
   "metadata": {},
   "outputs": [],
   "source": [
    "# ใช้ pd.cut() เพื่อแบ่งกลุ่มคะแนน\n",
    "data['Company_Score_Group'] = pd.cut(data['Company Score'], bins=bins_score, labels=labels_score, right=False)"
   ]
  },
  {
   "cell_type": "code",
   "execution_count": 377,
   "metadata": {},
   "outputs": [
    {
     "name": "stdout",
     "output_type": "stream",
     "text": [
      "Company_Score_Group\n",
      "กลาง    510\n",
      "สูง     359\n",
      "ต่ำ       1\n",
      "Name: count, dtype: int64\n"
     ]
    }
   ],
   "source": [
    "# แสดงจำนวนคะแนนในแต่ละกลุ่ม\n",
    "print(data['Company_Score_Group'].value_counts())"
   ]
  },
  {
   "cell_type": "markdown",
   "metadata": {},
   "source": [
    "# Prepare data for tests And Test hypotensis "
   ]
  },
  {
   "cell_type": "markdown",
   "metadata": {},
   "source": [
    "## วัตถุประสงค์การศึกษาที่ 1 เพื่อศึกษาเกี่ยวกับเงินเดือนในสายงาน Software"
   ]
  },
  {
   "cell_type": "code",
   "execution_count": 378,
   "metadata": {},
   "outputs": [],
   "source": [
    "# แยกข้อมูลเงินเดือนตามกลุ่มงาน\n",
    "Sa_Software_En = data[data['Group_job'] == 'Software_En']['Mid_Salary']\n",
    "Sa_Software_Dev = data[data['Group_job'] == 'Software_Dev']['Mid_Salary']\n",
    "Sa_Software_clound = data[data['Group_job'] == 'Software_clound']['Mid_Salary']\n",
    "Sa_Other = data[data['Group_job'] == 'Other']['Mid_Salary']"
   ]
  },
  {
   "cell_type": "code",
   "execution_count": 379,
   "metadata": {},
   "outputs": [
    {
     "data": {
      "text/plain": [
       "0     81.0\n",
       "1     82.5\n",
       "2    106.5\n",
       "3    121.0\n",
       "4     96.5\n",
       "Name: Mid_Salary, dtype: float64"
      ]
     },
     "execution_count": 379,
     "metadata": {},
     "output_type": "execute_result"
    }
   ],
   "source": [
    "Sa_Software_En.head()"
   ]
  },
  {
   "cell_type": "code",
   "execution_count": 380,
   "metadata": {},
   "outputs": [
    {
     "data": {
      "text/plain": [
       "97     107.5\n",
       "105     82.5\n",
       "107    106.0\n",
       "127    154.0\n",
       "141    114.0\n",
       "Name: Mid_Salary, dtype: float64"
      ]
     },
     "execution_count": 380,
     "metadata": {},
     "output_type": "execute_result"
    }
   ],
   "source": [
    "Sa_Software_Dev.head()"
   ]
  },
  {
   "cell_type": "code",
   "execution_count": 381,
   "metadata": {},
   "outputs": [
    {
     "data": {
      "text/plain": [
       "91     106.5\n",
       "114    187.5\n",
       "171    108.5\n",
       "172    112.5\n",
       "176    168.0\n",
       "Name: Mid_Salary, dtype: float64"
      ]
     },
     "execution_count": 381,
     "metadata": {},
     "output_type": "execute_result"
    }
   ],
   "source": [
    "Sa_Software_clound.head()"
   ]
  },
  {
   "cell_type": "code",
   "execution_count": 382,
   "metadata": {},
   "outputs": [
    {
     "data": {
      "text/plain": [
       "5     149.0\n",
       "15    112.5\n",
       "25    133.0\n",
       "63    160.0\n",
       "85    126.0\n",
       "Name: Mid_Salary, dtype: float64"
      ]
     },
     "execution_count": 382,
     "metadata": {},
     "output_type": "execute_result"
    }
   ],
   "source": [
    "Sa_Other.head()"
   ]
  },
  {
   "cell_type": "markdown",
   "metadata": {},
   "source": [
    "### For question 1 ทดสอบว่าเงินเดือนของสายงาน Software ทั้ง 4 กลุ่มแตกต่างกันหรือไม่ "
   ]
  },
  {
   "cell_type": "code",
   "execution_count": 383,
   "metadata": {},
   "outputs": [
    {
     "name": "stdout",
     "output_type": "stream",
     "text": [
      "Kruskal-Wallis H-statistic: 1.351277600103452\n",
      "P-value: 0.7169941931246939\n"
     ]
    }
   ],
   "source": [
    "# ทำการทดสอบ Kruskal-Wallis\n",
    "stat, p_value = kruskal(Sa_Software_En, Sa_Software_Dev, Sa_Software_clound, Sa_Other)\n",
    "# แสดงผลลัพธ์\n",
    "print(f\"Kruskal-Wallis H-statistic: {stat}\")\n",
    "print(f\"P-value: {p_value}\")\n"
   ]
  },
  {
   "cell_type": "markdown",
   "metadata": {},
   "source": [
    "### For Question 2 ทดสอบสมมติฐาน \"ทดสอบความสัมพันธ์ของตัวแปรคะแนนของบริษัทและเงินเดือน\""
   ]
  },
  {
   "cell_type": "code",
   "execution_count": 384,
   "metadata": {},
   "outputs": [
    {
     "name": "stdout",
     "output_type": "stream",
     "text": [
      "Spearman Correlation Coefficient: 0.025205222131919135\n",
      "P-value: 0.45778667694508435\n"
     ]
    }
   ],
   "source": [
    "\n",
    "\n",
    "from scipy.stats import spearmanr, pearsonr\n",
    "# คำนวณ Spearman correlation\n",
    "spearman_corr, spearman_p_value = spearmanr(data['Mid_Salary'], data['Company Score'])\n",
    "# แสดงผลลัพธ์\n",
    "print(f\"Spearman Correlation Coefficient: {spearman_corr}\")\n",
    "print(f\"P-value: {spearman_p_value}\")\n"
   ]
  },
  {
   "cell_type": "code",
   "execution_count": 385,
   "metadata": {},
   "outputs": [
    {
     "name": "stdout",
     "output_type": "stream",
     "text": [
      "Pearson Correlation Coefficient: 0.052383474104882935\n",
      "Pearson P-value: 0.12260549092045343\n"
     ]
    }
   ],
   "source": [
    "# คำนวณ Pearson correlation\n",
    "pearson_corr, pearson_p_value = pearsonr(data['Mid_Salary'], data['Company Score'])\n",
    "print(f\"Pearson Correlation Coefficient: {pearson_corr}\")\n",
    "print(f\"Pearson P-value: {pearson_p_value}\")"
   ]
  },
  {
   "cell_type": "markdown",
   "metadata": {},
   "source": [
    "### For Question 3 ระดับคะแนนของบริษัทมีผลต่อระดับเงินเดือนหรือไม่ "
   ]
  },
  {
   "cell_type": "code",
   "execution_count": 386,
   "metadata": {},
   "outputs": [
    {
     "data": {
      "text/html": [
       "<div>\n",
       "<style scoped>\n",
       "    .dataframe tbody tr th:only-of-type {\n",
       "        vertical-align: middle;\n",
       "    }\n",
       "\n",
       "    .dataframe tbody tr th {\n",
       "        vertical-align: top;\n",
       "    }\n",
       "\n",
       "    .dataframe thead th {\n",
       "        text-align: right;\n",
       "    }\n",
       "</style>\n",
       "<table border=\"1\" class=\"dataframe\">\n",
       "  <thead>\n",
       "    <tr style=\"text-align: right;\">\n",
       "      <th>Company_Score_Group</th>\n",
       "      <th>ต่ำ</th>\n",
       "      <th>กลาง</th>\n",
       "      <th>สูง</th>\n",
       "    </tr>\n",
       "    <tr>\n",
       "      <th>Salary_Range</th>\n",
       "      <th></th>\n",
       "      <th></th>\n",
       "      <th></th>\n",
       "    </tr>\n",
       "  </thead>\n",
       "  <tbody>\n",
       "    <tr>\n",
       "      <th>&lt;50</th>\n",
       "      <td>0</td>\n",
       "      <td>3</td>\n",
       "      <td>0</td>\n",
       "    </tr>\n",
       "    <tr>\n",
       "      <th>50-100</th>\n",
       "      <td>0</td>\n",
       "      <td>108</td>\n",
       "      <td>87</td>\n",
       "    </tr>\n",
       "    <tr>\n",
       "      <th>101-150</th>\n",
       "      <td>1</td>\n",
       "      <td>310</td>\n",
       "      <td>184</td>\n",
       "    </tr>\n",
       "    <tr>\n",
       "      <th>151-200</th>\n",
       "      <td>0</td>\n",
       "      <td>62</td>\n",
       "      <td>64</td>\n",
       "    </tr>\n",
       "    <tr>\n",
       "      <th>201-250</th>\n",
       "      <td>0</td>\n",
       "      <td>21</td>\n",
       "      <td>16</td>\n",
       "    </tr>\n",
       "    <tr>\n",
       "      <th>251-300</th>\n",
       "      <td>0</td>\n",
       "      <td>4</td>\n",
       "      <td>5</td>\n",
       "    </tr>\n",
       "    <tr>\n",
       "      <th>301-350</th>\n",
       "      <td>0</td>\n",
       "      <td>1</td>\n",
       "      <td>0</td>\n",
       "    </tr>\n",
       "    <tr>\n",
       "      <th>&gt;350</th>\n",
       "      <td>0</td>\n",
       "      <td>1</td>\n",
       "      <td>3</td>\n",
       "    </tr>\n",
       "  </tbody>\n",
       "</table>\n",
       "</div>"
      ],
      "text/plain": [
       "Company_Score_Group  ต่ำ  กลาง  สูง\n",
       "Salary_Range                       \n",
       "<50                    0     3    0\n",
       "50-100                 0   108   87\n",
       "101-150                1   310  184\n",
       "151-200                0    62   64\n",
       "201-250                0    21   16\n",
       "251-300                0     4    5\n",
       "301-350                0     1    0\n",
       ">350                   0     1    3"
      ]
     },
     "execution_count": 386,
     "metadata": {},
     "output_type": "execute_result"
    }
   ],
   "source": [
    "# สร้างตารางไขว้ (contingency table) ระหว่าง Salary_Range และ Company_Score_Group\n",
    "contingency_table_sa_co = pd.crosstab(data['Salary_Range'], data['Company_Score_Group'])\n",
    "contingency_table_sa_co"
   ]
  },
  {
   "cell_type": "code",
   "execution_count": 387,
   "metadata": {},
   "outputs": [
    {
     "name": "stdout",
     "output_type": "stream",
     "text": [
      "Expected frequencies:\n",
      "[[3.44827586e-03 1.75862069e+00 1.23793103e+00]\n",
      " [2.24137931e-01 1.14310345e+02 8.04655172e+01]\n",
      " [5.68965517e-01 2.90172414e+02 2.04258621e+02]\n",
      " [1.44827586e-01 7.38620690e+01 5.19931034e+01]\n",
      " [4.25287356e-02 2.16896552e+01 1.52678161e+01]\n",
      " [1.03448276e-02 5.27586207e+00 3.71379310e+00]\n",
      " [1.14942529e-03 5.86206897e-01 4.12643678e-01]\n",
      " [4.59770115e-03 2.34482759e+00 1.65057471e+00]]\n",
      "Degrees of freedom: 14\n",
      "Chi-Square statistic: 15.182977057391282\n",
      "P-value: 0.36576210838124673\n"
     ]
    }
   ],
   "source": [
    "\n",
    "# ทำการทดสอบ Chi-Square\n",
    "chi2, p_value, dof, expected = chi2_contingency(contingency_table_sa_co)\n",
    "\n",
    "# แสดงผลลัพธ์\n",
    "print(\"Expected frequencies:\")\n",
    "print(expected)\n",
    "print(f\"Degrees of freedom: {dof}\")\n",
    "print(f\"Chi-Square statistic: {chi2}\")\n",
    "print(f\"P-value: {p_value}\")"
   ]
  },
  {
   "cell_type": "markdown",
   "metadata": {},
   "source": [
    "## วัตถุประสงค์ที่ 2 เพื่อศึกษาเกี่ยวกับการทำงานแบบ Remote \n"
   ]
  },
  {
   "cell_type": "code",
   "execution_count": 388,
   "metadata": {},
   "outputs": [
    {
     "data": {
      "text/plain": [
       "Group_job\n",
       "Software_En        777\n",
       "Other               50\n",
       "Software_Dev        29\n",
       "Software_clound     14\n",
       "Name: count, dtype: int64"
      ]
     },
     "execution_count": 388,
     "metadata": {},
     "output_type": "execute_result"
    }
   ],
   "source": [
    "data['Group_job'].value_counts()"
   ]
  },
  {
   "cell_type": "code",
   "execution_count": 389,
   "metadata": {},
   "outputs": [
    {
     "data": {
      "text/plain": [
       "Remote\n",
       "No     831\n",
       "Yes     39\n",
       "Name: count, dtype: int64"
      ]
     },
     "execution_count": 389,
     "metadata": {},
     "output_type": "execute_result"
    }
   ],
   "source": [
    "data['Remote'].value_counts()"
   ]
  },
  {
   "cell_type": "code",
   "execution_count": 390,
   "metadata": {},
   "outputs": [],
   "source": [
    "Software_En=data[data['Group_job']=='Software_En']\n"
   ]
  },
  {
   "cell_type": "code",
   "execution_count": 391,
   "metadata": {},
   "outputs": [],
   "source": [
    "Software_Dev=data[data['Group_job']=='Software_Dev']\n"
   ]
  },
  {
   "cell_type": "code",
   "execution_count": 392,
   "metadata": {},
   "outputs": [],
   "source": [
    "Software_clound=data[data['Group_job']=='Software_clound']\n"
   ]
  },
  {
   "cell_type": "markdown",
   "metadata": {},
   "source": [
    "### For question 1 เงินเดือนของของแต่ละ Group_Job ในรูปแบบการทำงานแบบ Remote และ แบบ onsite  มีความแตกต่างกันหรือไม่ ?\n"
   ]
  },
  {
   "cell_type": "code",
   "execution_count": 394,
   "metadata": {},
   "outputs": [
    {
     "name": "stdout",
     "output_type": "stream",
     "text": [
      "<class 'pandas.core.frame.DataFrame'>\n",
      "Index: 777 entries, 0 to 869\n",
      "Data columns (total 15 columns):\n",
      " #   Column               Non-Null Count  Dtype   \n",
      "---  ------               --------------  -----   \n",
      " 0   Company              777 non-null    object  \n",
      " 1   Company Score        777 non-null    float64 \n",
      " 2   Job Title            777 non-null    object  \n",
      " 3   Location             767 non-null    object  \n",
      " 4   Date                 777 non-null    object  \n",
      " 5   Salary               680 non-null    object  \n",
      " 6   City                 767 non-null    object  \n",
      " 7   state                662 non-null    object  \n",
      " 8   LowerSalary          641 non-null    float64 \n",
      " 9   UpperSalary          641 non-null    float64 \n",
      " 10  Mid_Salary           777 non-null    float64 \n",
      " 11  Remote               777 non-null    object  \n",
      " 12  Group_job            777 non-null    object  \n",
      " 13  Salary_Range         777 non-null    category\n",
      " 14  Company_Score_Group  777 non-null    category\n",
      "dtypes: category(2), float64(4), object(9)\n",
      "memory usage: 87.0+ KB\n"
     ]
    }
   ],
   "source": [
    "Software_En.info()"
   ]
  },
  {
   "cell_type": "code",
   "execution_count": 395,
   "metadata": {},
   "outputs": [],
   "source": [
    "# Separate Remote (Yes) and Onsite (No) salaries\n",
    "en_remote_salaries = Software_En[Software_En['Remote'] == 'Yes']['Mid_Salary']\n",
    "en_onsite_salaries = Software_En[Software_En['Remote'] == 'No']['Mid_Salary']"
   ]
  },
  {
   "cell_type": "code",
   "execution_count": 396,
   "metadata": {},
   "outputs": [
    {
     "data": {
      "text/plain": [
       "121.67865404271345"
      ]
     },
     "execution_count": 396,
     "metadata": {},
     "output_type": "execute_result"
    }
   ],
   "source": [
    "Software_En[Software_En['Remote']=='Yes']['Mid_Salary'].mean()"
   ]
  },
  {
   "cell_type": "code",
   "execution_count": 397,
   "metadata": {},
   "outputs": [
    {
     "data": {
      "text/plain": [
       "129.63307665996481"
      ]
     },
     "execution_count": 397,
     "metadata": {},
     "output_type": "execute_result"
    }
   ],
   "source": [
    "Software_En[Software_En['Remote']=='No']['Mid_Salary'].mean()"
   ]
  },
  {
   "cell_type": "code",
   "execution_count": 398,
   "metadata": {},
   "outputs": [
    {
     "name": "stdout",
     "output_type": "stream",
     "text": [
      "Median Test statistic: 2.622028561674244\n",
      "P-value (Median Test): 0.10538963219160508\n"
     ]
    }
   ],
   "source": [
    "from scipy.stats import median_test\n",
    "\n",
    "# Perform Median Test\n",
    "if not en_remote_salaries.empty and not en_onsite_salaries.empty:\n",
    "    stat_en, p_value_en, _, _ = median_test(en_remote_salaries, en_onsite_salaries)\n",
    "    print(f\"Median Test statistic: {stat_en}\")\n",
    "    print(f\"P-value (Median Test): {p_value_en}\")\n",
    "\n"
   ]
  },
  {
   "cell_type": "code",
   "execution_count": 399,
   "metadata": {},
   "outputs": [
    {
     "data": {
      "text/plain": [
       "121.54938271604938"
      ]
     },
     "execution_count": 399,
     "metadata": {},
     "output_type": "execute_result"
    }
   ],
   "source": [
    "Software_Dev[Software_Dev['Remote']=='Yes']['Mid_Salary'].mean()"
   ]
  },
  {
   "cell_type": "code",
   "execution_count": 400,
   "metadata": {},
   "outputs": [
    {
     "data": {
      "text/plain": [
       "141.40418679549114"
      ]
     },
     "execution_count": 400,
     "metadata": {},
     "output_type": "execute_result"
    }
   ],
   "source": [
    "Software_Dev[Software_Dev['Remote']=='No']['Mid_Salary'].mean()"
   ]
  },
  {
   "cell_type": "code",
   "execution_count": 401,
   "metadata": {},
   "outputs": [],
   "source": [
    "# Separate Remote (Yes) and Onsite (No) salaries\n",
    "Dev_remote_salaries = Software_Dev[Software_Dev['Remote'] == 'Yes']['Mid_Salary']\n",
    "Dev_onsite_salaries = Software_Dev[Software_Dev['Remote'] == 'No']['Mid_Salary']\n"
   ]
  },
  {
   "cell_type": "code",
   "execution_count": 402,
   "metadata": {},
   "outputs": [
    {
     "data": {
      "text/plain": [
       "97     107.500000\n",
       "105     82.500000\n",
       "127    154.000000\n",
       "149     80.000000\n",
       "153    103.500000\n",
       "191    153.500000\n",
       "206     94.000000\n",
       "235    103.000000\n",
       "248    125.000000\n",
       "328    113.000000\n",
       "363    112.000000\n",
       "372    285.000000\n",
       "410    215.000000\n",
       "414     98.500000\n",
       "427    272.500000\n",
       "439    153.500000\n",
       "440    153.000000\n",
       "444     97.500000\n",
       "447    211.500000\n",
       "458    195.500000\n",
       "460    108.500000\n",
       "572     96.500000\n",
       "868    137.296296\n",
       "Name: Mid_Salary, dtype: float64"
      ]
     },
     "execution_count": 402,
     "metadata": {},
     "output_type": "execute_result"
    }
   ],
   "source": [
    "Dev_onsite_salaries"
   ]
  },
  {
   "cell_type": "code",
   "execution_count": 403,
   "metadata": {},
   "outputs": [
    {
     "data": {
      "text/plain": [
       "120.75"
      ]
     },
     "execution_count": 403,
     "metadata": {},
     "output_type": "execute_result"
    }
   ],
   "source": [
    "Software_Dev[Software_Dev['Remote'] == 'Yes']['Mid_Salary'].median()"
   ]
  },
  {
   "cell_type": "code",
   "execution_count": 404,
   "metadata": {},
   "outputs": [
    {
     "data": {
      "text/plain": [
       "113.0"
      ]
     },
     "execution_count": 404,
     "metadata": {},
     "output_type": "execute_result"
    }
   ],
   "source": [
    "Software_Dev[Software_Dev['Remote'] == 'No']['Mid_Salary'].median()"
   ]
  },
  {
   "cell_type": "code",
   "execution_count": 405,
   "metadata": {},
   "outputs": [
    {
     "name": "stdout",
     "output_type": "stream",
     "text": [
      "Median Test statistic: 0.0\n",
      "P-value (Median Test): 1.0\n"
     ]
    }
   ],
   "source": [
    "from scipy.stats import median_test\n",
    "\n",
    "# Perform Median Test\n",
    "if not Dev_remote_salaries.empty and not Dev_onsite_salaries.empty:\n",
    "    stat_dev, p_value_dev, _, _ = median_test(Dev_remote_salaries, Dev_onsite_salaries)\n",
    "    print(f\"Median Test statistic: {stat_dev}\")\n",
    "    print(f\"P-value (Median Test): {p_value_dev}\")\n"
   ]
  },
  {
   "cell_type": "code",
   "execution_count": 406,
   "metadata": {},
   "outputs": [],
   "source": [
    "#Software Clound\n",
    "cl_remote_salaries=Software_clound[Software_clound['Remote']=='Yes']['Mid_Salary']\n",
    "cl_onsite_salaries=Software_Dev[Software_Dev['Remote'] == 'No']['Mid_Salary']"
   ]
  },
  {
   "cell_type": "code",
   "execution_count": 407,
   "metadata": {},
   "outputs": [
    {
     "data": {
      "text/plain": [
       "103.5"
      ]
     },
     "execution_count": 407,
     "metadata": {},
     "output_type": "execute_result"
    }
   ],
   "source": [
    "Software_clound[Software_clound['Remote']=='Yes']['Mid_Salary'].median()"
   ]
  },
  {
   "cell_type": "code",
   "execution_count": 408,
   "metadata": {},
   "outputs": [
    {
     "data": {
      "text/plain": [
       "113.0"
      ]
     },
     "execution_count": 408,
     "metadata": {},
     "output_type": "execute_result"
    }
   ],
   "source": [
    "Software_Dev[Software_Dev['Remote'] == 'No']['Mid_Salary'].median()"
   ]
  },
  {
   "cell_type": "code",
   "execution_count": 409,
   "metadata": {},
   "outputs": [
    {
     "data": {
      "text/plain": [
       "97     107.500000\n",
       "105     82.500000\n",
       "127    154.000000\n",
       "149     80.000000\n",
       "153    103.500000\n",
       "191    153.500000\n",
       "206     94.000000\n",
       "235    103.000000\n",
       "248    125.000000\n",
       "328    113.000000\n",
       "363    112.000000\n",
       "372    285.000000\n",
       "410    215.000000\n",
       "414     98.500000\n",
       "427    272.500000\n",
       "439    153.500000\n",
       "440    153.000000\n",
       "444     97.500000\n",
       "447    211.500000\n",
       "458    195.500000\n",
       "460    108.500000\n",
       "572     96.500000\n",
       "868    137.296296\n",
       "Name: Mid_Salary, dtype: float64"
      ]
     },
     "execution_count": 409,
     "metadata": {},
     "output_type": "execute_result"
    }
   ],
   "source": [
    "cl_onsite_salaries"
   ]
  },
  {
   "cell_type": "code",
   "execution_count": 410,
   "metadata": {},
   "outputs": [
    {
     "name": "stdout",
     "output_type": "stream",
     "text": [
      "Median Test statistic: 0.0\n",
      "P-value (Median Test): 1.0\n"
     ]
    }
   ],
   "source": [
    "from scipy.stats import median_test\n",
    "\n",
    "# Perform Median Test\n",
    "if not cl_remote_salaries.empty and not cl_onsite_salaries.empty:\n",
    "    stat, p_value, _, _ = median_test(cl_remote_salaries, cl_onsite_salaries)\n",
    "    print(f\"Median Test statistic: {stat}\")\n",
    "    print(f\"P-value (Median Test): {p_value}\")\n"
   ]
  },
  {
   "cell_type": "markdown",
   "metadata": {},
   "source": [
    "### Questions 3 คะแนนบริษัทของการทำงานแบบ remote สูงกว่าการทำงานแบบ onsite หรือไม่ "
   ]
  },
  {
   "cell_type": "code",
   "execution_count": 411,
   "metadata": {},
   "outputs": [],
   "source": [
    "company_score_remote=data[data['Remote']=='Yes']['Company Score']"
   ]
  },
  {
   "cell_type": "code",
   "execution_count": 412,
   "metadata": {},
   "outputs": [
    {
     "data": {
      "text/plain": [
       "1      4.300000\n",
       "9      4.200000\n",
       "11     3.800000\n",
       "29     3.500000\n",
       "60     3.800000\n",
       "107    4.700000\n",
       "141    3.500000\n",
       "143    3.700000\n",
       "152    4.400000\n",
       "161    4.600000\n",
       "167    4.200000\n",
       "178    4.000000\n",
       "181    3.800000\n",
       "194    3.500000\n",
       "199    4.000000\n",
       "204    3.100000\n",
       "229    4.400000\n",
       "249    3.900000\n",
       "296    3.900000\n",
       "342    3.900000\n",
       "354    4.500000\n",
       "379    4.600000\n",
       "424    3.800000\n",
       "450    4.000000\n",
       "465    3.900000\n",
       "486    3.200000\n",
       "505    4.100000\n",
       "560    3.700000\n",
       "563    3.900000\n",
       "565    3.900000\n",
       "604    3.300000\n",
       "607    3.600000\n",
       "635    3.700000\n",
       "646    4.000000\n",
       "676    3.900000\n",
       "744    4.600000\n",
       "776    3.700000\n",
       "795    3.895311\n",
       "801    3.895311\n",
       "Name: Company Score, dtype: float64"
      ]
     },
     "execution_count": 412,
     "metadata": {},
     "output_type": "execute_result"
    }
   ],
   "source": [
    "company_score_remote"
   ]
  },
  {
   "cell_type": "code",
   "execution_count": 413,
   "metadata": {},
   "outputs": [],
   "source": [
    "company_score_onsite=data[data['Remote']=='No']['Company Score']"
   ]
  },
  {
   "cell_type": "code",
   "execution_count": 414,
   "metadata": {},
   "outputs": [
    {
     "data": {
      "text/plain": [
       "0      4.800000\n",
       "2      3.900000\n",
       "3      3.500000\n",
       "4      3.100000\n",
       "5      3.900000\n",
       "         ...   \n",
       "865    3.895311\n",
       "866    3.895311\n",
       "867    3.895311\n",
       "868    3.895311\n",
       "869    3.895311\n",
       "Name: Company Score, Length: 831, dtype: float64"
      ]
     },
     "execution_count": 414,
     "metadata": {},
     "output_type": "execute_result"
    }
   ],
   "source": [
    "company_score_onsite"
   ]
  },
  {
   "cell_type": "code",
   "execution_count": 415,
   "metadata": {},
   "outputs": [
    {
     "name": "stdout",
     "output_type": "stream",
     "text": [
      "Mann-Whitney U Statistic: 16909.5\n",
      "P-value (One-Tailed Test): 0.32263953533850287\n"
     ]
    }
   ],
   "source": [
    "from scipy import stats\n",
    "\n",
    "# ทดสอบสมมติฐานทางเดียว (Remote > Onsite)\n",
    "if not company_score_remote.empty and not company_score_onsite.empty:\n",
    "    mann_greater_stat,mann_greater_p_values = stats.mannwhitneyu(company_score_remote, company_score_onsite, alternative='greater')\n",
    "    print(f\"Mann-Whitney U Statistic: {mann_greater_stat}\")\n",
    "    print(f\"P-value (One-Tailed Test): {mann_greater_p_values}\")"
   ]
  },
  {
   "cell_type": "code",
   "execution_count": 416,
   "metadata": {},
   "outputs": [
    {
     "name": "stdout",
     "output_type": "stream",
     "text": [
      "Mann-Whitney U Statistic: 16909.5\n",
      "P-value (One-Tailed Test): 0.32263953533850287\n"
     ]
    }
   ],
   "source": [
    "from scipy import stats\n",
    "\n",
    "# ทดสอบสมมติฐานทางเดียว (Remote > Onsite)\n",
    "if not company_score_remote.empty and not company_score_onsite.empty:\n",
    "    mann_left_stat,mann_left_p_values = stats.mannwhitneyu(company_score_remote, company_score_onsite, alternative='greater')\n",
    "    print(f\"Mann-Whitney U Statistic: {mann_left_stat}\")\n",
    "    print(f\"P-value (One-Tailed Test): {mann_left_p_values}\")"
   ]
  },
  {
   "cell_type": "code",
   "execution_count": 417,
   "metadata": {},
   "outputs": [
    {
     "name": "stdout",
     "output_type": "stream",
     "text": [
      "<class 'pandas.core.frame.DataFrame'>\n",
      "RangeIndex: 870 entries, 0 to 869\n",
      "Data columns (total 15 columns):\n",
      " #   Column               Non-Null Count  Dtype   \n",
      "---  ------               --------------  -----   \n",
      " 0   Company              870 non-null    object  \n",
      " 1   Company Score        870 non-null    float64 \n",
      " 2   Job Title            870 non-null    object  \n",
      " 3   Location             857 non-null    object  \n",
      " 4   Date                 870 non-null    object  \n",
      " 5   Salary               764 non-null    object  \n",
      " 6   City                 857 non-null    object  \n",
      " 7   state                731 non-null    object  \n",
      " 8   LowerSalary          722 non-null    float64 \n",
      " 9   UpperSalary          722 non-null    float64 \n",
      " 10  Mid_Salary           870 non-null    float64 \n",
      " 11  Remote               870 non-null    object  \n",
      " 12  Group_job            870 non-null    object  \n",
      " 13  Salary_Range         870 non-null    category\n",
      " 14  Company_Score_Group  870 non-null    category\n",
      "dtypes: category(2), float64(4), object(9)\n",
      "memory usage: 90.7+ KB\n"
     ]
    },
    {
     "name": "stderr",
     "output_type": "stream",
     "text": [
      "C:\\Users\\pwb\\AppData\\Local\\Temp\\ipykernel_6632\\3229089577.py:2: FutureWarning: A value is trying to be set on a copy of a DataFrame or Series through chained assignment using an inplace method.\n",
      "The behavior will change in pandas 3.0. This inplace method will never work because the intermediate object on which we are setting values always behaves as a copy.\n",
      "\n",
      "For example, when doing 'df[col].method(value, inplace=True)', try using 'df.method({col: value}, inplace=True)' or df[col] = df[col].method(value) instead, to perform the operation inplace on the original object.\n",
      "\n",
      "\n",
      "  data['City'].fillna('Unknow', inplace=True)\n",
      "C:\\Users\\pwb\\AppData\\Local\\Temp\\ipykernel_6632\\3229089577.py:3: FutureWarning: A value is trying to be set on a copy of a DataFrame or Series through chained assignment using an inplace method.\n",
      "The behavior will change in pandas 3.0. This inplace method will never work because the intermediate object on which we are setting values always behaves as a copy.\n",
      "\n",
      "For example, when doing 'df[col].method(value, inplace=True)', try using 'df.method({col: value}, inplace=True)' or df[col] = df[col].method(value) instead, to perform the operation inplace on the original object.\n",
      "\n",
      "\n",
      "  data['state'].fillna('Unknow',inplace=True)\n"
     ]
    }
   ],
   "source": [
    "data.info()\n",
    "data['City'].fillna('Unknow', inplace=True)\n",
    "data['state'].fillna('Unknow',inplace=True)"
   ]
  },
  {
   "cell_type": "code",
   "execution_count": 418,
   "metadata": {},
   "outputs": [
    {
     "data": {
      "text/plain": [
       "Index(['Company', 'Company Score', 'Job Title', 'Location', 'Date', 'Salary',\n",
       "       'City', 'state', 'LowerSalary', 'UpperSalary', 'Mid_Salary', 'Remote',\n",
       "       'Group_job', 'Salary_Range', 'Company_Score_Group'],\n",
       "      dtype='object')"
      ]
     },
     "execution_count": 418,
     "metadata": {},
     "output_type": "execute_result"
    }
   ],
   "source": [
    "data.columns"
   ]
  },
  {
   "cell_type": "code",
   "execution_count": 419,
   "metadata": {},
   "outputs": [
    {
     "name": "stdout",
     "output_type": "stream",
     "text": [
      "Chi-Square Statistic: 2046.9287356321843\n",
      "P-Value: 0.0\n"
     ]
    }
   ],
   "source": [
    "import numpy as np\n",
    "from scipy.stats import chisquare\n",
    "\n",
    "# สร้างข้อมูลนับจำนวนการเกิดขึ้นจริงของแต่ละ state (จากคอลัมน์ 'state')\n",
    "observed_counts = data['state'].value_counts().values\n",
    "\n",
    "# คาดว่าการกระจายตัวควรจะเท่าๆ กัน แต่ต้องแน่ใจว่าผลรวมเท่ากัน\n",
    "expected_counts = np.full_like(observed_counts, np.mean(observed_counts))\n",
    "\n",
    "# ปรับ expected_counts ให้มีผลรวมเท่ากับ observed_counts\n",
    "expected_counts = expected_counts * (observed_counts.sum() / expected_counts.sum())\n",
    "\n",
    "# เรียกใช้ Chi-Square Test\n",
    "chi_stat, chi_p_value = chisquare(observed_counts, f_exp=expected_counts)\n",
    "\n",
    "print(f\"Chi-Square Statistic: {chi_stat}\")\n",
    "print(f\"P-Value: {chi_p_value}\")\n"
   ]
  },
  {
   "cell_type": "code",
   "execution_count": 420,
   "metadata": {},
   "outputs": [
    {
     "data": {
      "text/plain": [
       "array([139, 125,  75,  51,  49,  44,  39,  31,  30,  26,  24,  23,  21,\n",
       "        20,  19,  17,  13,  12,  12,  11,  10,   8,   7,   5,   5,   4,\n",
       "         4,   4,   4,   4,   4,   3,   3,   3,   3,   2,   2,   2,   2,\n",
       "         2,   2,   2,   1,   1,   1,   1], dtype=int64)"
      ]
     },
     "execution_count": 420,
     "metadata": {},
     "output_type": "execute_result"
    }
   ],
   "source": [
    "observed_counts"
   ]
  },
  {
   "cell_type": "code",
   "execution_count": 421,
   "metadata": {},
   "outputs": [
    {
     "data": {
      "text/plain": [
       "array([18.91304348, 18.91304348, 18.91304348, 18.91304348, 18.91304348,\n",
       "       18.91304348, 18.91304348, 18.91304348, 18.91304348, 18.91304348,\n",
       "       18.91304348, 18.91304348, 18.91304348, 18.91304348, 18.91304348,\n",
       "       18.91304348, 18.91304348, 18.91304348, 18.91304348, 18.91304348,\n",
       "       18.91304348, 18.91304348, 18.91304348, 18.91304348, 18.91304348,\n",
       "       18.91304348, 18.91304348, 18.91304348, 18.91304348, 18.91304348,\n",
       "       18.91304348, 18.91304348, 18.91304348, 18.91304348, 18.91304348,\n",
       "       18.91304348, 18.91304348, 18.91304348, 18.91304348, 18.91304348,\n",
       "       18.91304348, 18.91304348, 18.91304348, 18.91304348, 18.91304348,\n",
       "       18.91304348])"
      ]
     },
     "execution_count": 421,
     "metadata": {},
     "output_type": "execute_result"
    }
   ],
   "source": [
    "expected_counts"
   ]
  },
  {
   "cell_type": "code",
   "execution_count": 422,
   "metadata": {},
   "outputs": [
    {
     "name": "stdout",
     "output_type": "stream",
     "text": [
      "Chi-Square Statistic: 2046.9287356321843\n",
      "P-Value: 0.0\n"
     ]
    }
   ],
   "source": [
    "import numpy as np\n",
    "from scipy.stats import chisquare\n",
    "\n",
    "# สร้าง observed counts จากข้อมูล state (หรือข้อมูลหมวดหมู่อื่นๆ)\n",
    "observed_counts = data['state'].value_counts().values\n",
    "\n",
    "# คำนวณ expected counts แบบ uniform distribution\n",
    "expected_counts = np.ones_like(observed_counts) * observed_counts.sum() / len(observed_counts)\n",
    "\n",
    "# รวมเซลล์ที่มีค่า expected < 5\n",
    "min_expected_threshold = 5\n",
    "if np.any(expected_counts < min_expected_threshold):\n",
    "    observed_counts = np.where(expected_counts < min_expected_threshold, \n",
    "                               observed_counts[expected_counts >= min_expected_threshold].sum(), \n",
    "                               observed_counts)\n",
    "    expected_counts = np.where(expected_counts < min_expected_threshold, \n",
    "                               expected_counts[expected_counts >= min_expected_threshold].sum(), \n",
    "                               expected_counts)\n",
    "\n",
    "# เรียกใช้ Chi-Square Test\n",
    "chi_stat, chi_p_value = chisquare(observed_counts, f_exp=expected_counts)\n",
    "\n",
    "print(f\"Chi-Square Statistic: {chi_stat}\")\n",
    "print(f\"P-Value: {chi_p_value}\")\n"
   ]
  },
  {
   "cell_type": "code",
   "execution_count": 423,
   "metadata": {},
   "outputs": [
    {
     "data": {
      "text/plain": [
       "array([18.91304348, 18.91304348, 18.91304348, 18.91304348, 18.91304348,\n",
       "       18.91304348, 18.91304348, 18.91304348, 18.91304348, 18.91304348,\n",
       "       18.91304348, 18.91304348, 18.91304348, 18.91304348, 18.91304348,\n",
       "       18.91304348, 18.91304348, 18.91304348, 18.91304348, 18.91304348,\n",
       "       18.91304348, 18.91304348, 18.91304348, 18.91304348, 18.91304348,\n",
       "       18.91304348, 18.91304348, 18.91304348, 18.91304348, 18.91304348,\n",
       "       18.91304348, 18.91304348, 18.91304348, 18.91304348, 18.91304348,\n",
       "       18.91304348, 18.91304348, 18.91304348, 18.91304348, 18.91304348,\n",
       "       18.91304348, 18.91304348, 18.91304348, 18.91304348, 18.91304348,\n",
       "       18.91304348])"
      ]
     },
     "execution_count": 423,
     "metadata": {},
     "output_type": "execute_result"
    }
   ],
   "source": [
    "expected_counts"
   ]
  },
  {
   "cell_type": "code",
   "execution_count": 424,
   "metadata": {},
   "outputs": [],
   "source": [
    "import numpy as np\n",
    "from scipy.stats import kstest, norm\n",
    "\n",
    "# สมมติฐานว่าเงินเดือนในแบบ Remote และ Onsite ถูกดึงมา\n",
    "s_remote_salaries = data[data['Remote'] == 'Yes']['Mid_Salary']\n",
    "s_onsite_salaries = data[data['Remote'] == 'No']['Mid_Salary']\n"
   ]
  },
  {
   "cell_type": "code",
   "execution_count": 425,
   "metadata": {},
   "outputs": [
    {
     "name": "stdout",
     "output_type": "stream",
     "text": [
      "Kolmogorov-Smirnov Test for Remote Salaries: Statistic=0.18840608837616857, P-Value=0.10986072068159913\n",
      "Kolmogorov-Smirnov Test for Onsite Salaries: Statistic=0.1777787337939234, P-Value=1.9040207747490034e-23\n"
     ]
    }
   ],
   "source": [
    "# ทดสอบการกระจายตัวของ Remote Salaries กับการกระจายปกติ\n",
    "stat_remote, p_value_remote = kstest(s_remote_salaries, 'norm', args=(np.mean(s_remote_salaries), np.std(s_remote_salaries)))\n",
    "\n",
    "# ทดสอบการกระจายตัวของ Onsite Salaries กับการกระจายปกติ\n",
    "stat_onsite, p_value_onsite = kstest(s_onsite_salaries, 'norm', args=(np.mean(s_onsite_salaries), np.std(s_onsite_salaries)))\n",
    "\n",
    "# แสดงผลลัพธ์\n",
    "print(f\"Kolmogorov-Smirnov Test for Remote Salaries: Statistic={stat_remote}, P-Value={p_value_remote}\")\n",
    "print(f\"Kolmogorov-Smirnov Test for Onsite Salaries: Statistic={stat_onsite}, P-Value={p_value_onsite}\")\n"
   ]
  },
  {
   "cell_type": "code",
   "execution_count": 426,
   "metadata": {},
   "outputs": [
    {
     "data": {
      "text/plain": [
       "Index(['Company', 'Company Score', 'Job Title', 'Location', 'Date', 'Salary',\n",
       "       'City', 'state', 'LowerSalary', 'UpperSalary', 'Mid_Salary', 'Remote',\n",
       "       'Group_job', 'Salary_Range', 'Company_Score_Group'],\n",
       "      dtype='object')"
      ]
     },
     "execution_count": 426,
     "metadata": {},
     "output_type": "execute_result"
    }
   ],
   "source": [
    "data.columns"
   ]
  },
  {
   "cell_type": "code",
   "execution_count": 427,
   "metadata": {},
   "outputs": [
    {
     "data": {
      "text/html": [
       "<div>\n",
       "<style scoped>\n",
       "    .dataframe tbody tr th:only-of-type {\n",
       "        vertical-align: middle;\n",
       "    }\n",
       "\n",
       "    .dataframe tbody tr th {\n",
       "        vertical-align: top;\n",
       "    }\n",
       "\n",
       "    .dataframe thead th {\n",
       "        text-align: right;\n",
       "    }\n",
       "</style>\n",
       "<table border=\"1\" class=\"dataframe\">\n",
       "  <thead>\n",
       "    <tr style=\"text-align: right;\">\n",
       "      <th></th>\n",
       "      <th>Company</th>\n",
       "      <th>Company Score</th>\n",
       "      <th>Job Title</th>\n",
       "      <th>Location</th>\n",
       "      <th>Date</th>\n",
       "      <th>Salary</th>\n",
       "      <th>City</th>\n",
       "      <th>state</th>\n",
       "      <th>LowerSalary</th>\n",
       "      <th>UpperSalary</th>\n",
       "      <th>Mid_Salary</th>\n",
       "      <th>Remote</th>\n",
       "      <th>Group_job</th>\n",
       "      <th>Salary_Range</th>\n",
       "      <th>Company_Score_Group</th>\n",
       "    </tr>\n",
       "  </thead>\n",
       "  <tbody>\n",
       "    <tr>\n",
       "      <th>0</th>\n",
       "      <td>ViewSoft</td>\n",
       "      <td>4.800000</td>\n",
       "      <td>software engineer</td>\n",
       "      <td>Manassas, VA</td>\n",
       "      <td>8d</td>\n",
       "      <td>$68K - $94K (Glassdoor est.)</td>\n",
       "      <td>Manassas</td>\n",
       "      <td>VA</td>\n",
       "      <td>68.0</td>\n",
       "      <td>94.0</td>\n",
       "      <td>81.000000</td>\n",
       "      <td>No</td>\n",
       "      <td>Software_En</td>\n",
       "      <td>50-100</td>\n",
       "      <td>สูง</td>\n",
       "    </tr>\n",
       "    <tr>\n",
       "      <th>1</th>\n",
       "      <td>Workiva</td>\n",
       "      <td>4.300000</td>\n",
       "      <td>software support engineer</td>\n",
       "      <td>Remote</td>\n",
       "      <td>2d</td>\n",
       "      <td>$61K - $104K (Employer est.)</td>\n",
       "      <td>Remote</td>\n",
       "      <td>Unknow</td>\n",
       "      <td>61.0</td>\n",
       "      <td>104.0</td>\n",
       "      <td>82.500000</td>\n",
       "      <td>Yes</td>\n",
       "      <td>Software_En</td>\n",
       "      <td>50-100</td>\n",
       "      <td>สูง</td>\n",
       "    </tr>\n",
       "    <tr>\n",
       "      <th>2</th>\n",
       "      <td>Garmin International, Inc.</td>\n",
       "      <td>3.900000</td>\n",
       "      <td>c# software engineer</td>\n",
       "      <td>Cary, NC</td>\n",
       "      <td>2d</td>\n",
       "      <td>$95K - $118K (Glassdoor est.)</td>\n",
       "      <td>Cary</td>\n",
       "      <td>NC</td>\n",
       "      <td>95.0</td>\n",
       "      <td>118.0</td>\n",
       "      <td>106.500000</td>\n",
       "      <td>No</td>\n",
       "      <td>Software_En</td>\n",
       "      <td>101-150</td>\n",
       "      <td>กลาง</td>\n",
       "    </tr>\n",
       "    <tr>\n",
       "      <th>3</th>\n",
       "      <td>Snapchat</td>\n",
       "      <td>3.500000</td>\n",
       "      <td>software engineer, fullstack, 1+ years of expe...</td>\n",
       "      <td>Los Angeles, CA</td>\n",
       "      <td>2d</td>\n",
       "      <td>$97K - $145K (Employer est.)</td>\n",
       "      <td>Los Angeles</td>\n",
       "      <td>CA</td>\n",
       "      <td>97.0</td>\n",
       "      <td>145.0</td>\n",
       "      <td>121.000000</td>\n",
       "      <td>No</td>\n",
       "      <td>Software_En</td>\n",
       "      <td>101-150</td>\n",
       "      <td>กลาง</td>\n",
       "    </tr>\n",
       "    <tr>\n",
       "      <th>4</th>\n",
       "      <td>Vitesco Technologies Group AG</td>\n",
       "      <td>3.100000</td>\n",
       "      <td>software engineer</td>\n",
       "      <td>Seguin, TX</td>\n",
       "      <td>2d</td>\n",
       "      <td>$85K - $108K (Glassdoor est.)</td>\n",
       "      <td>Seguin</td>\n",
       "      <td>TX</td>\n",
       "      <td>85.0</td>\n",
       "      <td>108.0</td>\n",
       "      <td>96.500000</td>\n",
       "      <td>No</td>\n",
       "      <td>Software_En</td>\n",
       "      <td>50-100</td>\n",
       "      <td>กลาง</td>\n",
       "    </tr>\n",
       "    <tr>\n",
       "      <th>...</th>\n",
       "      <td>...</td>\n",
       "      <td>...</td>\n",
       "      <td>...</td>\n",
       "      <td>...</td>\n",
       "      <td>...</td>\n",
       "      <td>...</td>\n",
       "      <td>...</td>\n",
       "      <td>...</td>\n",
       "      <td>...</td>\n",
       "      <td>...</td>\n",
       "      <td>...</td>\n",
       "      <td>...</td>\n",
       "      <td>...</td>\n",
       "      <td>...</td>\n",
       "      <td>...</td>\n",
       "    </tr>\n",
       "    <tr>\n",
       "      <th>865</th>\n",
       "      <td>RXO</td>\n",
       "      <td>3.895311</td>\n",
       "      <td>software engineer, machine learning compute</td>\n",
       "      <td>San Francisco, CA</td>\n",
       "      <td>6d</td>\n",
       "      <td>NaN</td>\n",
       "      <td>San Francisco</td>\n",
       "      <td>CA</td>\n",
       "      <td>NaN</td>\n",
       "      <td>NaN</td>\n",
       "      <td>129.336193</td>\n",
       "      <td>No</td>\n",
       "      <td>Software_En</td>\n",
       "      <td>101-150</td>\n",
       "      <td>กลาง</td>\n",
       "    </tr>\n",
       "    <tr>\n",
       "      <th>866</th>\n",
       "      <td>Infosys</td>\n",
       "      <td>3.895311</td>\n",
       "      <td>software engineer - 3 (apache nifi)</td>\n",
       "      <td>Annapolis Junction, MD</td>\n",
       "      <td>18d</td>\n",
       "      <td>NaN</td>\n",
       "      <td>Annapolis Junction</td>\n",
       "      <td>MD</td>\n",
       "      <td>NaN</td>\n",
       "      <td>NaN</td>\n",
       "      <td>129.336193</td>\n",
       "      <td>No</td>\n",
       "      <td>Software_En</td>\n",
       "      <td>101-150</td>\n",
       "      <td>กลาง</td>\n",
       "    </tr>\n",
       "    <tr>\n",
       "      <th>867</th>\n",
       "      <td>Medtronic</td>\n",
       "      <td>3.895311</td>\n",
       "      <td>senior software engineer</td>\n",
       "      <td>Southfield, MI</td>\n",
       "      <td>19d</td>\n",
       "      <td>NaN</td>\n",
       "      <td>Southfield</td>\n",
       "      <td>MI</td>\n",
       "      <td>NaN</td>\n",
       "      <td>NaN</td>\n",
       "      <td>129.336193</td>\n",
       "      <td>No</td>\n",
       "      <td>Software_En</td>\n",
       "      <td>101-150</td>\n",
       "      <td>กลาง</td>\n",
       "    </tr>\n",
       "    <tr>\n",
       "      <th>868</th>\n",
       "      <td>Unknow</td>\n",
       "      <td>3.895311</td>\n",
       "      <td>junior python developer</td>\n",
       "      <td>Charlotte, NC</td>\n",
       "      <td>2d</td>\n",
       "      <td>NaN</td>\n",
       "      <td>Charlotte</td>\n",
       "      <td>NC</td>\n",
       "      <td>NaN</td>\n",
       "      <td>NaN</td>\n",
       "      <td>137.296296</td>\n",
       "      <td>No</td>\n",
       "      <td>Software_Dev</td>\n",
       "      <td>101-150</td>\n",
       "      <td>กลาง</td>\n",
       "    </tr>\n",
       "    <tr>\n",
       "      <th>869</th>\n",
       "      <td>Unknow</td>\n",
       "      <td>3.895311</td>\n",
       "      <td>gui software engineer ii - surgical robotics</td>\n",
       "      <td>Boston, MA</td>\n",
       "      <td>10d</td>\n",
       "      <td>NaN</td>\n",
       "      <td>Boston</td>\n",
       "      <td>MA</td>\n",
       "      <td>NaN</td>\n",
       "      <td>NaN</td>\n",
       "      <td>129.336193</td>\n",
       "      <td>No</td>\n",
       "      <td>Software_En</td>\n",
       "      <td>101-150</td>\n",
       "      <td>กลาง</td>\n",
       "    </tr>\n",
       "  </tbody>\n",
       "</table>\n",
       "<p>870 rows × 15 columns</p>\n",
       "</div>"
      ],
      "text/plain": [
       "                           Company  Company Score  \\\n",
       "0                         ViewSoft       4.800000   \n",
       "1                          Workiva       4.300000   \n",
       "2       Garmin International, Inc.       3.900000   \n",
       "3                         Snapchat       3.500000   \n",
       "4    Vitesco Technologies Group AG       3.100000   \n",
       "..                             ...            ...   \n",
       "865                            RXO       3.895311   \n",
       "866                        Infosys       3.895311   \n",
       "867                      Medtronic       3.895311   \n",
       "868                         Unknow       3.895311   \n",
       "869                         Unknow       3.895311   \n",
       "\n",
       "                                             Job Title  \\\n",
       "0                                    software engineer   \n",
       "1                            software support engineer   \n",
       "2                                 c# software engineer   \n",
       "3    software engineer, fullstack, 1+ years of expe...   \n",
       "4                                    software engineer   \n",
       "..                                                 ...   \n",
       "865        software engineer, machine learning compute   \n",
       "866                software engineer - 3 (apache nifi)   \n",
       "867                           senior software engineer   \n",
       "868                            junior python developer   \n",
       "869       gui software engineer ii - surgical robotics   \n",
       "\n",
       "                   Location Date                         Salary  \\\n",
       "0              Manassas, VA   8d   $68K - $94K (Glassdoor est.)   \n",
       "1                    Remote   2d   $61K - $104K (Employer est.)   \n",
       "2                  Cary, NC   2d  $95K - $118K (Glassdoor est.)   \n",
       "3           Los Angeles, CA   2d   $97K - $145K (Employer est.)   \n",
       "4                Seguin, TX   2d  $85K - $108K (Glassdoor est.)   \n",
       "..                      ...  ...                            ...   \n",
       "865       San Francisco, CA   6d                            NaN   \n",
       "866  Annapolis Junction, MD  18d                            NaN   \n",
       "867          Southfield, MI  19d                            NaN   \n",
       "868           Charlotte, NC   2d                            NaN   \n",
       "869              Boston, MA  10d                            NaN   \n",
       "\n",
       "                   City   state  LowerSalary  UpperSalary  Mid_Salary Remote  \\\n",
       "0              Manassas      VA         68.0         94.0   81.000000     No   \n",
       "1                Remote  Unknow         61.0        104.0   82.500000    Yes   \n",
       "2                  Cary      NC         95.0        118.0  106.500000     No   \n",
       "3           Los Angeles      CA         97.0        145.0  121.000000     No   \n",
       "4                Seguin      TX         85.0        108.0   96.500000     No   \n",
       "..                  ...     ...          ...          ...         ...    ...   \n",
       "865       San Francisco      CA          NaN          NaN  129.336193     No   \n",
       "866  Annapolis Junction      MD          NaN          NaN  129.336193     No   \n",
       "867          Southfield      MI          NaN          NaN  129.336193     No   \n",
       "868           Charlotte      NC          NaN          NaN  137.296296     No   \n",
       "869              Boston      MA          NaN          NaN  129.336193     No   \n",
       "\n",
       "        Group_job Salary_Range Company_Score_Group  \n",
       "0     Software_En       50-100                 สูง  \n",
       "1     Software_En       50-100                 สูง  \n",
       "2     Software_En      101-150                กลาง  \n",
       "3     Software_En      101-150                กลาง  \n",
       "4     Software_En       50-100                กลาง  \n",
       "..            ...          ...                 ...  \n",
       "865   Software_En      101-150                กลาง  \n",
       "866   Software_En      101-150                กลาง  \n",
       "867   Software_En      101-150                กลาง  \n",
       "868  Software_Dev      101-150                กลาง  \n",
       "869   Software_En      101-150                กลาง  \n",
       "\n",
       "[870 rows x 15 columns]"
      ]
     },
     "execution_count": 427,
     "metadata": {},
     "output_type": "execute_result"
    }
   ],
   "source": [
    "data"
   ]
  },
  {
   "cell_type": "code",
   "execution_count": 428,
   "metadata": {},
   "outputs": [
    {
     "data": {
      "text/plain": [
       "City\n",
       "United States         48\n",
       "Remote                39\n",
       "Annapolis Junction    35\n",
       "San Francisco         28\n",
       "Seattle               28\n",
       "                      ..\n",
       "San Antonio            1\n",
       "Lorton                 1\n",
       "Onalaska               1\n",
       "Suwanee                1\n",
       "Southfield             1\n",
       "Name: count, Length: 324, dtype: int64"
      ]
     },
     "execution_count": 428,
     "metadata": {},
     "output_type": "execute_result"
    }
   ],
   "source": [
    "data['City'].value_counts()\n"
   ]
  },
  {
   "cell_type": "code",
   "execution_count": 429,
   "metadata": {},
   "outputs": [],
   "source": [
    "import numpy as np\n",
    "import pandas as pd\n",
    "from statsmodels.sandbox.stats.runs import runstest_1samp\n"
   ]
  },
  {
   "cell_type": "code",
   "execution_count": 430,
   "metadata": {},
   "outputs": [],
   "source": [
    "z_stat, p_value = runstest_1samp(data['Mid_Salary'], correction=False)\n"
   ]
  },
  {
   "cell_type": "code",
   "execution_count": 431,
   "metadata": {},
   "outputs": [
    {
     "name": "stdout",
     "output_type": "stream",
     "text": [
      "Z-Statistic: -1.3809269151801908\n",
      "P-Value: 0.16730143331499114\n"
     ]
    }
   ],
   "source": [
    "print(f\"Z-Statistic: {z_stat}\")\n",
    "print(f\"P-Value: {p_value}\")\n",
    "\n"
   ]
  },
  {
   "cell_type": "code",
   "execution_count": 432,
   "metadata": {},
   "outputs": [
    {
     "data": {
      "text/plain": [
       "City\n",
       "United States         48\n",
       "Remote                39\n",
       "Annapolis Junction    35\n",
       "San Francisco         28\n",
       "Seattle               28\n",
       "                      ..\n",
       "San Antonio            1\n",
       "Lorton                 1\n",
       "Onalaska               1\n",
       "Suwanee                1\n",
       "Southfield             1\n",
       "Name: count, Length: 324, dtype: int64"
      ]
     },
     "execution_count": 432,
     "metadata": {},
     "output_type": "execute_result"
    }
   ],
   "source": [
    "\n",
    "# นับจำนวนข้อมูลในแต่ละเมือง\n",
    "city_counts = data['City'].value_counts()\n",
    "city_counts"
   ]
  },
  {
   "cell_type": "code",
   "execution_count": 433,
   "metadata": {},
   "outputs": [],
   "source": [
    "\n",
    "# เตรียมข้อมูลสำหรับการทดสอบ\n",
    "city_counts = city_counts.sort_index()  # เรียงตามชื่อเมือง\n",
    "city_counts_values = city_counts.values  # ค่า\n",
    "n = len(city_counts_values)  # จำนวนเมือง\n"
   ]
  },
  {
   "cell_type": "code",
   "execution_count": 434,
   "metadata": {},
   "outputs": [],
   "source": [
    "# เรียกใช้ Run Test for Randomness\n",
    "z_stat, p_value = runstest_1samp(city_counts_values, correction=False)"
   ]
  },
  {
   "cell_type": "code",
   "execution_count": 435,
   "metadata": {},
   "outputs": [
    {
     "name": "stdout",
     "output_type": "stream",
     "text": [
      "Z-Statistic: -1.2217036503204073\n",
      "P-Value: 0.2218197153831355\n"
     ]
    }
   ],
   "source": [
    "# แสดงผลลัพธ์\n",
    "print(f\"Z-Statistic: {z_stat}\")\n",
    "print(f\"P-Value: {p_value}\")"
   ]
  },
  {
   "cell_type": "code",
   "execution_count": 438,
   "metadata": {},
   "outputs": [
    {
     "data": {
      "text/plain": [
       "state\n",
       "Unknow    139\n",
       " CA       125\n",
       " MD        75\n",
       " WA        51\n",
       " TX        49\n",
       " MA        44\n",
       " VA        39\n",
       " FL        31\n",
       " NY        30\n",
       " GA        26\n",
       " IL        24\n",
       " MI        23\n",
       " CO        21\n",
       " NJ        20\n",
       " PA        19\n",
       " NC        17\n",
       " WI        13\n",
       " AZ        12\n",
       " OH        12\n",
       " MN        11\n",
       " DC        10\n",
       " CT         8\n",
       " UT         7\n",
       " OR         5\n",
       " IN         5\n",
       " KS         4\n",
       " ID         4\n",
       " AL         4\n",
       " OK         4\n",
       " IA         4\n",
       " MS         4\n",
       " VT         3\n",
       " DE         3\n",
       " NE         3\n",
       " SC         3\n",
       " RI         2\n",
       " PR         2\n",
       " AR         2\n",
       " WV         2\n",
       " NH         2\n",
       " KY         2\n",
       " NM         2\n",
       " HI         1\n",
       " TN         1\n",
       " MO         1\n",
       " NV         1\n",
       "Name: count, dtype: int64"
      ]
     },
     "execution_count": 438,
     "metadata": {},
     "output_type": "execute_result"
    }
   ],
   "source": [
    "# นับจำนวนข้อมูลในแต่ละเมือง\n",
    "state_counts = data['state'].value_counts()\n",
    "state_counts"
   ]
  },
  {
   "cell_type": "code",
   "execution_count": 439,
   "metadata": {},
   "outputs": [],
   "source": [
    "# เตรียมข้อมูลสำหรับการทดสอบ\n",
    "state_counts = state_counts.sort_index()  # เรียงตามชื่อเมือง\n",
    "state_counts_values = state_counts.values  # ค่า\n",
    "n = len(state_counts_values)  # จำนวนเมือง\n"
   ]
  },
  {
   "cell_type": "code",
   "execution_count": 440,
   "metadata": {},
   "outputs": [],
   "source": [
    "# เรียกใช้ Run Test for Randomness\n",
    "z_stat, p_value = runstest_1samp(state_counts_values, correction=False)"
   ]
  },
  {
   "cell_type": "code",
   "execution_count": 441,
   "metadata": {},
   "outputs": [
    {
     "name": "stdout",
     "output_type": "stream",
     "text": [
      "Z-Statistic: 0.2663429164008639\n",
      "P-Value: 0.7899751238410978\n"
     ]
    }
   ],
   "source": [
    "# แสดงผลลัพธ์\n",
    "print(f\"Z-Statistic: {z_stat}\")\n",
    "print(f\"P-Value: {p_value}\")"
   ]
  },
  {
   "cell_type": "code",
   "execution_count": 445,
   "metadata": {},
   "outputs": [],
   "source": [
    "data.to_csv('C:/Nonpara_Project/data.csv', index=False)\n"
   ]
  },
  {
   "cell_type": "code",
   "execution_count": null,
   "metadata": {},
   "outputs": [],
   "source": []
  }
 ],
 "metadata": {
  "kernelspec": {
   "display_name": "Python 3",
   "language": "python",
   "name": "python3"
  },
  "language_info": {
   "codemirror_mode": {
    "name": "ipython",
    "version": 3
   },
   "file_extension": ".py",
   "mimetype": "text/x-python",
   "name": "python",
   "nbconvert_exporter": "python",
   "pygments_lexer": "ipython3",
   "version": "3.11.9"
  }
 },
 "nbformat": 4,
 "nbformat_minor": 2
}
